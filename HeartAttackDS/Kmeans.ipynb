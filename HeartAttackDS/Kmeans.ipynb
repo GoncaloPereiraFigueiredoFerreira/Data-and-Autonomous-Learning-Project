{
 "cells": [
  {
   "cell_type": "code",
   "execution_count": null,
   "metadata": {},
   "outputs": [],
   "source": [
    "import numpy as np # linear algebra\n",
    "import pandas as pd # data processing, CSV file I/O (e.g. pd.read_csv)\n",
    "import sklearn as skl\n",
    "import matplotlib.pyplot as plt\n",
    "import seaborn as sns\n",
    "\n",
    "from sklearn import preprocessing\n",
    "from sklearn.model_selection import train_test_split\n",
    "\n",
    "from sklearn.metrics import confusion_matrix,accuracy_score,precision_score,recall_score\n",
    "from sklearn.utils import resample\n",
    "from sklearn.ensemble import RandomForestClassifier\n",
    "from sklearn.metrics import classification_report, plot_confusion_matrix\n",
    "from sklearn.cluster import KMeans\n",
    "from sklearn_extra.cluster import KMedoids"
   ]
  },
  {
   "cell_type": "code",
   "execution_count": null,
   "metadata": {},
   "outputs": [],
   "source": [
    "df=pd.read_csv('.\\df.csv')\n",
    "X = df.drop(['HeartDisease'],axis=1)\n",
    "y = df['HeartDisease'].to_frame()"
   ]
  },
  {
   "cell_type": "markdown",
   "metadata": {},
   "source": [
    "# K means"
   ]
  },
  {
   "cell_type": "code",
   "execution_count": null,
   "metadata": {},
   "outputs": [],
   "source": [
    "model = KMeans(n_clusters=2,random_state=13122001)\n",
    "model.fit(X)"
   ]
  },
  {
   "cell_type": "code",
   "execution_count": null,
   "metadata": {},
   "outputs": [],
   "source": [
    "\"\"\"\n",
    "f,(ax1,ax2)= plt.subplots(1,2,sharey=True,figsize=(10,6))\n",
    "ax1.set_title('K means')\n",
    "ax1.scatter(X[:,0],X[:,1],c=model.labels_,cmap='rainbow')\n",
    "ax2.set_title(\"Original\")\n",
    "ax2.scatter(X[:,0],X[:,1],c=y,cmap='rainbow')\n",
    "for i, txt in enumerate(y):\n",
    "    if i%5 == 0:\n",
    "        plt.annotate(txt,(X[i,0],X[i,1]))\n",
    "\"\"\""
   ]
  },
  {
   "cell_type": "code",
   "execution_count": null,
   "metadata": {},
   "outputs": [],
   "source": [
    "prediction= model.predict(X)\n",
    "\n",
    "confusion_matrix(y,prediction)"
   ]
  },
  {
   "cell_type": "code",
   "execution_count": null,
   "metadata": {},
   "outputs": [],
   "source": [
    "print(classification_report(y,prediction))"
   ]
  },
  {
   "cell_type": "markdown",
   "metadata": {},
   "source": [
    "# K Medoids"
   ]
  },
  {
   "cell_type": "code",
   "execution_count": null,
   "metadata": {},
   "outputs": [],
   "source": [
    "model = KMedoids(n_clusters=2,random_state=13122001)\n",
    "model.fit(X)\n",
    "model.predict(X)\n",
    "print(confusion_matrix(y,prediction))\n",
    "print(classification_report(y,prediction))\n"
   ]
  }
 ],
 "metadata": {
  "kernelspec": {
   "display_name": "Python 3.7.0 ('env3.7')",
   "language": "python",
   "name": "python3"
  },
  "language_info": {
   "codemirror_mode": {
    "name": "ipython",
    "version": 3
   },
   "file_extension": ".py",
   "mimetype": "text/x-python",
   "name": "python",
   "nbconvert_exporter": "python",
   "pygments_lexer": "ipython3",
   "version": "3.7.0"
  },
  "orig_nbformat": 4,
  "vscode": {
   "interpreter": {
    "hash": "7d01ebad83f1e573303b379f432ff0608821921c78460387fd729ca46a3d8255"
   }
  }
 },
 "nbformat": 4,
 "nbformat_minor": 2
}
