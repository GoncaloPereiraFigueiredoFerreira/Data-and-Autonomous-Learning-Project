{
 "cells": [
  {
   "cell_type": "code",
   "execution_count": 8,
   "metadata": {},
   "outputs": [],
   "source": [
    "import pandas as pd # data processing, CSV file I/O (e.g. pd.read_csv)\n",
    "from sklearn.model_selection import train_test_split\n",
    "from sklearn.utils import resample\n",
    "from sklearn.preprocessing import MinMaxScaler\n",
    "import imblearn \n",
    "from imblearn.over_sampling import SMOTE\n",
    "from sklearn.preprocessing import LabelEncoder\n",
    "from sklearn.preprocessing import OneHotEncoder\n",
    "import numpy as np\n",
    "import seaborn as sns\n",
    "import matplotlib.pyplot as plt\n",
    "import plotly.express as px\n",
    "import plotly.graph_objects as go\n",
    "from plotly.subplots import make_subplots\n",
    "\n",
    "sns.set(rc={'figure.figsize':(15,8)})"
   ]
  },
  {
   "cell_type": "code",
   "execution_count": 25,
   "metadata": {},
   "outputs": [],
   "source": [
    "df = pd.read_csv('.\\heart_2020_cleaned.csv')"
   ]
  },
  {
   "attachments": {},
   "cell_type": "markdown",
   "metadata": {},
   "source": [
    "# Data Analysis"
   ]
  },
  {
   "cell_type": "code",
   "execution_count": 5,
   "metadata": {},
   "outputs": [
    {
     "name": "stdout",
     "output_type": "stream",
     "text": [
      "<class 'pandas.core.frame.DataFrame'>\n",
      "RangeIndex: 319795 entries, 0 to 319794\n",
      "Data columns (total 18 columns):\n",
      " #   Column            Non-Null Count   Dtype  \n",
      "---  ------            --------------   -----  \n",
      " 0   HeartDisease      319795 non-null  object \n",
      " 1   BMI               319795 non-null  float64\n",
      " 2   Smoking           319795 non-null  object \n",
      " 3   AlcoholDrinking   319795 non-null  object \n",
      " 4   Stroke            319795 non-null  object \n",
      " 5   PhysicalHealth    319795 non-null  float64\n",
      " 6   MentalHealth      319795 non-null  float64\n",
      " 7   DiffWalking       319795 non-null  object \n",
      " 8   Sex               319795 non-null  object \n",
      " 9   AgeCategory       319795 non-null  object \n",
      " 10  Race              319795 non-null  object \n",
      " 11  Diabetic          319795 non-null  object \n",
      " 12  PhysicalActivity  319795 non-null  object \n",
      " 13  GenHealth         319795 non-null  object \n",
      " 14  SleepTime         319795 non-null  float64\n",
      " 15  Asthma            319795 non-null  object \n",
      " 16  KidneyDisease     319795 non-null  object \n",
      " 17  SkinCancer        319795 non-null  object \n",
      "dtypes: float64(4), object(14)\n",
      "memory usage: 43.9+ MB\n"
     ]
    }
   ],
   "source": [
    "df.info()"
   ]
  },
  {
   "cell_type": "code",
   "execution_count": 9,
   "metadata": {},
   "outputs": [
    {
     "name": "stdout",
     "output_type": "stream",
     "text": [
      "No     307726\n",
      "Yes     12069\n",
      "Name: Stroke, dtype: int64\n"
     ]
    }
   ],
   "source": [
    "print(df['HeartDisease'].value_counts())"
   ]
  },
  {
   "cell_type": "code",
   "execution_count": 6,
   "metadata": {},
   "outputs": [
    {
     "name": "stdout",
     "output_type": "stream",
     "text": [
      "HeartDisease: ['No' 'Yes']\n",
      "BMI: [16.6  20.34 26.58 ... 62.42 51.46 46.56]\n",
      "Smoking: ['Yes' 'No']\n",
      "AlcoholDrinking: ['No' 'Yes']\n",
      "Stroke: ['No' 'Yes']\n",
      "PhysicalHealth: [ 3.  0. 20. 28.  6. 15.  5. 30.  7.  1.  2. 21.  4. 10. 14. 18.  8. 25.\n",
      " 16. 29. 27. 17. 24. 12. 23. 26. 22. 19.  9. 13. 11.]\n",
      "MentalHealth: [30.  0.  2.  5. 15.  8.  4.  3. 10. 14. 20.  1.  7. 24.  9. 28. 16. 12.\n",
      "  6. 25. 17. 18. 21. 29. 22. 13. 23. 27. 26. 11. 19.]\n",
      "DiffWalking: ['No' 'Yes']\n",
      "Sex: ['Female' 'Male']\n",
      "AgeCategory: ['55-59' '80 or older' '65-69' '75-79' '40-44' '70-74' '60-64' '50-54'\n",
      " '45-49' '18-24' '35-39' '30-34' '25-29']\n",
      "Race: ['White' 'Black' 'Asian' 'American Indian/Alaskan Native' 'Other'\n",
      " 'Hispanic']\n",
      "Diabetic: ['Yes' 'No' 'No, borderline diabetes' 'Yes (during pregnancy)']\n",
      "PhysicalActivity: ['Yes' 'No']\n",
      "GenHealth: ['Very good' 'Fair' 'Good' 'Poor' 'Excellent']\n",
      "SleepTime: [ 5.  7.  8.  6. 12.  4.  9. 10. 15.  3.  2.  1. 16. 18. 14. 20. 11. 13.\n",
      " 17. 24. 19. 21. 22. 23.]\n",
      "Asthma: ['Yes' 'No']\n",
      "KidneyDisease: ['No' 'Yes']\n",
      "SkinCancer: ['Yes' 'No']\n"
     ]
    }
   ],
   "source": [
    "for col in df:\n",
    "    print(f'{col}: {df[col].unique()}')"
   ]
  },
  {
   "cell_type": "code",
   "execution_count": 19,
   "metadata": {},
   "outputs": [
    {
     "data": {
      "application/vnd.plotly.v1+json": {
       "config": {
        "plotlyServerURL": "https://plot.ly"
       },
       "data": [
        {
         "domain": {
          "x": [
           0,
           0.2125
          ],
          "y": [
           0.7777777777777778,
           1
          ]
         },
         "hole": 0.35,
         "labels": [
          "No",
          "Yes"
         ],
         "marker": {
          "colors": [
           "#4285f4",
           "#ea4335",
           "#fbbc05",
           "#34a853"
          ]
         },
         "rotation": -45,
         "textinfo": "label+percent",
         "type": "pie",
         "values": [
          292422,
          27373
         ]
        },
        {
         "domain": {
          "x": [
           0.2625,
           0.475
          ],
          "y": [
           0.7777777777777778,
           1
          ]
         },
         "hole": 0.35,
         "labels": [
          "No",
          "Yes"
         ],
         "marker": {
          "colors": [
           "#4285f4",
           "#ea4335",
           "#fbbc05",
           "#34a853"
          ]
         },
         "textinfo": "label+percent",
         "type": "pie",
         "values": [
          187887,
          131908
         ]
        },
        {
         "domain": {
          "x": [
           0.525,
           0.7375
          ],
          "y": [
           0.7777777777777778,
           1
          ]
         },
         "hole": 0.35,
         "labels": [
          "No",
          "Yes"
         ],
         "marker": {
          "colors": [
           "#4285f4",
           "#ea4335",
           "#fbbc05",
           "#34a853"
          ]
         },
         "rotation": -45,
         "textinfo": "label+percent",
         "type": "pie",
         "values": [
          298018,
          21777
         ]
        },
        {
         "domain": {
          "x": [
           0.7875,
           1
          ],
          "y": [
           0.7777777777777778,
           1
          ]
         },
         "hole": 0.35,
         "labels": [
          "No",
          "Yes"
         ],
         "marker": {
          "colors": [
           "#4285f4",
           "#ea4335",
           "#fbbc05",
           "#34a853"
          ]
         },
         "rotation": -45,
         "textinfo": "label+percent",
         "type": "pie",
         "values": [
          307726,
          12069
         ]
        },
        {
         "domain": {
          "x": [
           0,
           0.2125
          ],
          "y": [
           0.3888888888888889,
           0.6111111111111112
          ]
         },
         "hole": 0.35,
         "labels": [
          "No",
          "Yes"
         ],
         "marker": {
          "colors": [
           "#4285f4",
           "#ea4335",
           "#fbbc05",
           "#34a853"
          ]
         },
         "textinfo": "label+percent",
         "type": "pie",
         "values": [
          275385,
          44410
         ]
        },
        {
         "domain": {
          "x": [
           0.2625,
           0.475
          ],
          "y": [
           0.3888888888888889,
           0.6111111111111112
          ]
         },
         "hole": 0.35,
         "labels": [
          "Female",
          "Male"
         ],
         "marker": {
          "colors": [
           "#4285f4",
           "#ea4335",
           "#fbbc05",
           "#34a853"
          ]
         },
         "textinfo": "label+percent",
         "type": "pie",
         "values": [
          167805,
          151990
         ]
        },
        {
         "domain": {
          "x": [
           0.525,
           0.7375
          ],
          "y": [
           0.3888888888888889,
           0.6111111111111112
          ]
         },
         "hole": 0.35,
         "labels": [
          "White",
          "Hispanic",
          "Black",
          "Other",
          "Asian",
          "American Indian/Alaskan Native"
         ],
         "marker": {
          "colors": [
           "#4285f4",
           "#ea4335",
           "#fbbc05",
           "#34a853"
          ]
         },
         "rotation": -45,
         "textinfo": "label+percent",
         "type": "pie",
         "values": [
          245212,
          27446,
          22939,
          10928,
          8068,
          5202
         ]
        },
        {
         "domain": {
          "x": [
           0.7875,
           1
          ],
          "y": [
           0.3888888888888889,
           0.6111111111111112
          ]
         },
         "hole": 0.35,
         "labels": [
          "Yes",
          "No"
         ],
         "marker": {
          "colors": [
           "#4285f4",
           "#ea4335",
           "#fbbc05",
           "#34a853"
          ]
         },
         "textinfo": "label+percent",
         "type": "pie",
         "values": [
          247957,
          71838
         ]
        },
        {
         "domain": {
          "x": [
           0,
           0.2125
          ],
          "y": [
           0,
           0.22222222222222224
          ]
         },
         "hole": 0.35,
         "labels": [
          "No",
          "Yes",
          "No, borderline diabetes",
          "Yes (during pregnancy)"
         ],
         "marker": {
          "colors": [
           "#4285f4",
           "#ea4335",
           "#fbbc05",
           "#34a853"
          ]
         },
         "rotation": -45,
         "textinfo": "label+percent",
         "type": "pie",
         "values": [
          269653,
          40802,
          6781,
          2559
         ]
        },
        {
         "domain": {
          "x": [
           0.2625,
           0.475
          ],
          "y": [
           0,
           0.22222222222222224
          ]
         },
         "hole": 0.35,
         "labels": [
          "Very good",
          "Good",
          "Excellent",
          "Fair",
          "Poor"
         ],
         "marker": {
          "colors": [
           "#4285f4",
           "#ea4335",
           "#fbbc05",
           "#34a853"
          ]
         },
         "textinfo": "label+percent",
         "type": "pie",
         "values": [
          113858,
          93129,
          66842,
          34677,
          11289
         ]
        },
        {
         "domain": {
          "x": [
           0.525,
           0.7375
          ],
          "y": [
           0,
           0.22222222222222224
          ]
         },
         "hole": 0.35,
         "labels": [
          "No",
          "Yes"
         ],
         "marker": {
          "colors": [
           "#4285f4",
           "#ea4335",
           "#fbbc05",
           "#34a853"
          ]
         },
         "rotation": -45,
         "textinfo": "label+percent",
         "type": "pie",
         "values": [
          276923,
          42872
         ]
        },
        {
         "domain": {
          "x": [
           0.7875,
           1
          ],
          "y": [
           0,
           0.22222222222222224
          ]
         },
         "hole": 0.35,
         "labels": [
          "No",
          "Yes"
         ],
         "marker": {
          "colors": [
           "#4285f4",
           "#ea4335",
           "#fbbc05",
           "#34a853"
          ]
         },
         "rotation": -45,
         "textinfo": "label+percent",
         "type": "pie",
         "values": [
          308016,
          11779
         ]
        }
       ],
       "layout": {
        "annotations": [
         {
          "font": {
           "size": 16
          },
          "showarrow": false,
          "text": "HeartDisease",
          "x": 0.10625,
          "xanchor": "center",
          "xref": "paper",
          "y": 1,
          "yanchor": "bottom",
          "yref": "paper"
         },
         {
          "font": {
           "size": 16
          },
          "showarrow": false,
          "text": "Smoking",
          "x": 0.36875,
          "xanchor": "center",
          "xref": "paper",
          "y": 1,
          "yanchor": "bottom",
          "yref": "paper"
         },
         {
          "font": {
           "size": 16
          },
          "showarrow": false,
          "text": "AlcoholDrinking",
          "x": 0.6312500000000001,
          "xanchor": "center",
          "xref": "paper",
          "y": 1,
          "yanchor": "bottom",
          "yref": "paper"
         },
         {
          "font": {
           "size": 16
          },
          "showarrow": false,
          "text": "Stroke",
          "x": 0.89375,
          "xanchor": "center",
          "xref": "paper",
          "y": 1,
          "yanchor": "bottom",
          "yref": "paper"
         },
         {
          "font": {
           "size": 16
          },
          "showarrow": false,
          "text": "DiffWalking",
          "x": 0.10625,
          "xanchor": "center",
          "xref": "paper",
          "y": 0.6111111111111112,
          "yanchor": "bottom",
          "yref": "paper"
         },
         {
          "font": {
           "size": 16
          },
          "showarrow": false,
          "text": "Sex",
          "x": 0.36875,
          "xanchor": "center",
          "xref": "paper",
          "y": 0.6111111111111112,
          "yanchor": "bottom",
          "yref": "paper"
         },
         {
          "font": {
           "size": 16
          },
          "showarrow": false,
          "text": "Race",
          "x": 0.6312500000000001,
          "xanchor": "center",
          "xref": "paper",
          "y": 0.6111111111111112,
          "yanchor": "bottom",
          "yref": "paper"
         },
         {
          "font": {
           "size": 16
          },
          "showarrow": false,
          "text": "Diabetic",
          "x": 0.89375,
          "xanchor": "center",
          "xref": "paper",
          "y": 0.6111111111111112,
          "yanchor": "bottom",
          "yref": "paper"
         },
         {
          "font": {
           "size": 16
          },
          "showarrow": false,
          "text": "PhysicalActivity",
          "x": 0.10625,
          "xanchor": "center",
          "xref": "paper",
          "y": 0.22222222222222224,
          "yanchor": "bottom",
          "yref": "paper"
         },
         {
          "font": {
           "size": 16
          },
          "showarrow": false,
          "text": "GenHealth",
          "x": 0.36875,
          "xanchor": "center",
          "xref": "paper",
          "y": 0.22222222222222224,
          "yanchor": "bottom",
          "yref": "paper"
         },
         {
          "font": {
           "size": 16
          },
          "showarrow": false,
          "text": "Asthma",
          "x": 0.6312500000000001,
          "xanchor": "center",
          "xref": "paper",
          "y": 0.22222222222222224,
          "yanchor": "bottom",
          "yref": "paper"
         },
         {
          "font": {
           "size": 16
          },
          "showarrow": false,
          "text": "KidneyDisease",
          "x": 0.89375,
          "xanchor": "center",
          "xref": "paper",
          "y": 0.22222222222222224,
          "yanchor": "bottom",
          "yref": "paper"
         }
        ],
        "font": {
         "size": 15
        },
        "height": 1500,
        "showlegend": false,
        "template": {
         "data": {
          "bar": [
           {
            "error_x": {
             "color": "#2a3f5f"
            },
            "error_y": {
             "color": "#2a3f5f"
            },
            "marker": {
             "line": {
              "color": "#E5ECF6",
              "width": 0.5
             },
             "pattern": {
              "fillmode": "overlay",
              "size": 10,
              "solidity": 0.2
             }
            },
            "type": "bar"
           }
          ],
          "barpolar": [
           {
            "marker": {
             "line": {
              "color": "#E5ECF6",
              "width": 0.5
             },
             "pattern": {
              "fillmode": "overlay",
              "size": 10,
              "solidity": 0.2
             }
            },
            "type": "barpolar"
           }
          ],
          "carpet": [
           {
            "aaxis": {
             "endlinecolor": "#2a3f5f",
             "gridcolor": "white",
             "linecolor": "white",
             "minorgridcolor": "white",
             "startlinecolor": "#2a3f5f"
            },
            "baxis": {
             "endlinecolor": "#2a3f5f",
             "gridcolor": "white",
             "linecolor": "white",
             "minorgridcolor": "white",
             "startlinecolor": "#2a3f5f"
            },
            "type": "carpet"
           }
          ],
          "choropleth": [
           {
            "colorbar": {
             "outlinewidth": 0,
             "ticks": ""
            },
            "type": "choropleth"
           }
          ],
          "contour": [
           {
            "colorbar": {
             "outlinewidth": 0,
             "ticks": ""
            },
            "colorscale": [
             [
              0,
              "#0d0887"
             ],
             [
              0.1111111111111111,
              "#46039f"
             ],
             [
              0.2222222222222222,
              "#7201a8"
             ],
             [
              0.3333333333333333,
              "#9c179e"
             ],
             [
              0.4444444444444444,
              "#bd3786"
             ],
             [
              0.5555555555555556,
              "#d8576b"
             ],
             [
              0.6666666666666666,
              "#ed7953"
             ],
             [
              0.7777777777777778,
              "#fb9f3a"
             ],
             [
              0.8888888888888888,
              "#fdca26"
             ],
             [
              1,
              "#f0f921"
             ]
            ],
            "type": "contour"
           }
          ],
          "contourcarpet": [
           {
            "colorbar": {
             "outlinewidth": 0,
             "ticks": ""
            },
            "type": "contourcarpet"
           }
          ],
          "heatmap": [
           {
            "colorbar": {
             "outlinewidth": 0,
             "ticks": ""
            },
            "colorscale": [
             [
              0,
              "#0d0887"
             ],
             [
              0.1111111111111111,
              "#46039f"
             ],
             [
              0.2222222222222222,
              "#7201a8"
             ],
             [
              0.3333333333333333,
              "#9c179e"
             ],
             [
              0.4444444444444444,
              "#bd3786"
             ],
             [
              0.5555555555555556,
              "#d8576b"
             ],
             [
              0.6666666666666666,
              "#ed7953"
             ],
             [
              0.7777777777777778,
              "#fb9f3a"
             ],
             [
              0.8888888888888888,
              "#fdca26"
             ],
             [
              1,
              "#f0f921"
             ]
            ],
            "type": "heatmap"
           }
          ],
          "heatmapgl": [
           {
            "colorbar": {
             "outlinewidth": 0,
             "ticks": ""
            },
            "colorscale": [
             [
              0,
              "#0d0887"
             ],
             [
              0.1111111111111111,
              "#46039f"
             ],
             [
              0.2222222222222222,
              "#7201a8"
             ],
             [
              0.3333333333333333,
              "#9c179e"
             ],
             [
              0.4444444444444444,
              "#bd3786"
             ],
             [
              0.5555555555555556,
              "#d8576b"
             ],
             [
              0.6666666666666666,
              "#ed7953"
             ],
             [
              0.7777777777777778,
              "#fb9f3a"
             ],
             [
              0.8888888888888888,
              "#fdca26"
             ],
             [
              1,
              "#f0f921"
             ]
            ],
            "type": "heatmapgl"
           }
          ],
          "histogram": [
           {
            "marker": {
             "pattern": {
              "fillmode": "overlay",
              "size": 10,
              "solidity": 0.2
             }
            },
            "type": "histogram"
           }
          ],
          "histogram2d": [
           {
            "colorbar": {
             "outlinewidth": 0,
             "ticks": ""
            },
            "colorscale": [
             [
              0,
              "#0d0887"
             ],
             [
              0.1111111111111111,
              "#46039f"
             ],
             [
              0.2222222222222222,
              "#7201a8"
             ],
             [
              0.3333333333333333,
              "#9c179e"
             ],
             [
              0.4444444444444444,
              "#bd3786"
             ],
             [
              0.5555555555555556,
              "#d8576b"
             ],
             [
              0.6666666666666666,
              "#ed7953"
             ],
             [
              0.7777777777777778,
              "#fb9f3a"
             ],
             [
              0.8888888888888888,
              "#fdca26"
             ],
             [
              1,
              "#f0f921"
             ]
            ],
            "type": "histogram2d"
           }
          ],
          "histogram2dcontour": [
           {
            "colorbar": {
             "outlinewidth": 0,
             "ticks": ""
            },
            "colorscale": [
             [
              0,
              "#0d0887"
             ],
             [
              0.1111111111111111,
              "#46039f"
             ],
             [
              0.2222222222222222,
              "#7201a8"
             ],
             [
              0.3333333333333333,
              "#9c179e"
             ],
             [
              0.4444444444444444,
              "#bd3786"
             ],
             [
              0.5555555555555556,
              "#d8576b"
             ],
             [
              0.6666666666666666,
              "#ed7953"
             ],
             [
              0.7777777777777778,
              "#fb9f3a"
             ],
             [
              0.8888888888888888,
              "#fdca26"
             ],
             [
              1,
              "#f0f921"
             ]
            ],
            "type": "histogram2dcontour"
           }
          ],
          "mesh3d": [
           {
            "colorbar": {
             "outlinewidth": 0,
             "ticks": ""
            },
            "type": "mesh3d"
           }
          ],
          "parcoords": [
           {
            "line": {
             "colorbar": {
              "outlinewidth": 0,
              "ticks": ""
             }
            },
            "type": "parcoords"
           }
          ],
          "pie": [
           {
            "automargin": true,
            "type": "pie"
           }
          ],
          "scatter": [
           {
            "fillpattern": {
             "fillmode": "overlay",
             "size": 10,
             "solidity": 0.2
            },
            "type": "scatter"
           }
          ],
          "scatter3d": [
           {
            "line": {
             "colorbar": {
              "outlinewidth": 0,
              "ticks": ""
             }
            },
            "marker": {
             "colorbar": {
              "outlinewidth": 0,
              "ticks": ""
             }
            },
            "type": "scatter3d"
           }
          ],
          "scattercarpet": [
           {
            "marker": {
             "colorbar": {
              "outlinewidth": 0,
              "ticks": ""
             }
            },
            "type": "scattercarpet"
           }
          ],
          "scattergeo": [
           {
            "marker": {
             "colorbar": {
              "outlinewidth": 0,
              "ticks": ""
             }
            },
            "type": "scattergeo"
           }
          ],
          "scattergl": [
           {
            "marker": {
             "colorbar": {
              "outlinewidth": 0,
              "ticks": ""
             }
            },
            "type": "scattergl"
           }
          ],
          "scattermapbox": [
           {
            "marker": {
             "colorbar": {
              "outlinewidth": 0,
              "ticks": ""
             }
            },
            "type": "scattermapbox"
           }
          ],
          "scatterpolar": [
           {
            "marker": {
             "colorbar": {
              "outlinewidth": 0,
              "ticks": ""
             }
            },
            "type": "scatterpolar"
           }
          ],
          "scatterpolargl": [
           {
            "marker": {
             "colorbar": {
              "outlinewidth": 0,
              "ticks": ""
             }
            },
            "type": "scatterpolargl"
           }
          ],
          "scatterternary": [
           {
            "marker": {
             "colorbar": {
              "outlinewidth": 0,
              "ticks": ""
             }
            },
            "type": "scatterternary"
           }
          ],
          "surface": [
           {
            "colorbar": {
             "outlinewidth": 0,
             "ticks": ""
            },
            "colorscale": [
             [
              0,
              "#0d0887"
             ],
             [
              0.1111111111111111,
              "#46039f"
             ],
             [
              0.2222222222222222,
              "#7201a8"
             ],
             [
              0.3333333333333333,
              "#9c179e"
             ],
             [
              0.4444444444444444,
              "#bd3786"
             ],
             [
              0.5555555555555556,
              "#d8576b"
             ],
             [
              0.6666666666666666,
              "#ed7953"
             ],
             [
              0.7777777777777778,
              "#fb9f3a"
             ],
             [
              0.8888888888888888,
              "#fdca26"
             ],
             [
              1,
              "#f0f921"
             ]
            ],
            "type": "surface"
           }
          ],
          "table": [
           {
            "cells": {
             "fill": {
              "color": "#EBF0F8"
             },
             "line": {
              "color": "white"
             }
            },
            "header": {
             "fill": {
              "color": "#C8D4E3"
             },
             "line": {
              "color": "white"
             }
            },
            "type": "table"
           }
          ]
         },
         "layout": {
          "annotationdefaults": {
           "arrowcolor": "#2a3f5f",
           "arrowhead": 0,
           "arrowwidth": 1
          },
          "autotypenumbers": "strict",
          "coloraxis": {
           "colorbar": {
            "outlinewidth": 0,
            "ticks": ""
           }
          },
          "colorscale": {
           "diverging": [
            [
             0,
             "#8e0152"
            ],
            [
             0.1,
             "#c51b7d"
            ],
            [
             0.2,
             "#de77ae"
            ],
            [
             0.3,
             "#f1b6da"
            ],
            [
             0.4,
             "#fde0ef"
            ],
            [
             0.5,
             "#f7f7f7"
            ],
            [
             0.6,
             "#e6f5d0"
            ],
            [
             0.7,
             "#b8e186"
            ],
            [
             0.8,
             "#7fbc41"
            ],
            [
             0.9,
             "#4d9221"
            ],
            [
             1,
             "#276419"
            ]
           ],
           "sequential": [
            [
             0,
             "#0d0887"
            ],
            [
             0.1111111111111111,
             "#46039f"
            ],
            [
             0.2222222222222222,
             "#7201a8"
            ],
            [
             0.3333333333333333,
             "#9c179e"
            ],
            [
             0.4444444444444444,
             "#bd3786"
            ],
            [
             0.5555555555555556,
             "#d8576b"
            ],
            [
             0.6666666666666666,
             "#ed7953"
            ],
            [
             0.7777777777777778,
             "#fb9f3a"
            ],
            [
             0.8888888888888888,
             "#fdca26"
            ],
            [
             1,
             "#f0f921"
            ]
           ],
           "sequentialminus": [
            [
             0,
             "#0d0887"
            ],
            [
             0.1111111111111111,
             "#46039f"
            ],
            [
             0.2222222222222222,
             "#7201a8"
            ],
            [
             0.3333333333333333,
             "#9c179e"
            ],
            [
             0.4444444444444444,
             "#bd3786"
            ],
            [
             0.5555555555555556,
             "#d8576b"
            ],
            [
             0.6666666666666666,
             "#ed7953"
            ],
            [
             0.7777777777777778,
             "#fb9f3a"
            ],
            [
             0.8888888888888888,
             "#fdca26"
            ],
            [
             1,
             "#f0f921"
            ]
           ]
          },
          "colorway": [
           "#636efa",
           "#EF553B",
           "#00cc96",
           "#ab63fa",
           "#FFA15A",
           "#19d3f3",
           "#FF6692",
           "#B6E880",
           "#FF97FF",
           "#FECB52"
          ],
          "font": {
           "color": "#2a3f5f"
          },
          "geo": {
           "bgcolor": "white",
           "lakecolor": "white",
           "landcolor": "#E5ECF6",
           "showlakes": true,
           "showland": true,
           "subunitcolor": "white"
          },
          "hoverlabel": {
           "align": "left"
          },
          "hovermode": "closest",
          "mapbox": {
           "style": "light"
          },
          "paper_bgcolor": "white",
          "plot_bgcolor": "#E5ECF6",
          "polar": {
           "angularaxis": {
            "gridcolor": "white",
            "linecolor": "white",
            "ticks": ""
           },
           "bgcolor": "#E5ECF6",
           "radialaxis": {
            "gridcolor": "white",
            "linecolor": "white",
            "ticks": ""
           }
          },
          "scene": {
           "xaxis": {
            "backgroundcolor": "#E5ECF6",
            "gridcolor": "white",
            "gridwidth": 2,
            "linecolor": "white",
            "showbackground": true,
            "ticks": "",
            "zerolinecolor": "white"
           },
           "yaxis": {
            "backgroundcolor": "#E5ECF6",
            "gridcolor": "white",
            "gridwidth": 2,
            "linecolor": "white",
            "showbackground": true,
            "ticks": "",
            "zerolinecolor": "white"
           },
           "zaxis": {
            "backgroundcolor": "#E5ECF6",
            "gridcolor": "white",
            "gridwidth": 2,
            "linecolor": "white",
            "showbackground": true,
            "ticks": "",
            "zerolinecolor": "white"
           }
          },
          "shapedefaults": {
           "line": {
            "color": "#2a3f5f"
           }
          },
          "ternary": {
           "aaxis": {
            "gridcolor": "white",
            "linecolor": "white",
            "ticks": ""
           },
           "baxis": {
            "gridcolor": "white",
            "linecolor": "white",
            "ticks": ""
           },
           "bgcolor": "#E5ECF6",
           "caxis": {
            "gridcolor": "white",
            "linecolor": "white",
            "ticks": ""
           }
          },
          "title": {
           "x": 0.05
          },
          "xaxis": {
           "automargin": true,
           "gridcolor": "white",
           "linecolor": "white",
           "ticks": "",
           "title": {
            "standoff": 15
           },
           "zerolinecolor": "white",
           "zerolinewidth": 2
          },
          "yaxis": {
           "automargin": true,
           "gridcolor": "white",
           "linecolor": "white",
           "ticks": "",
           "title": {
            "standoff": 15
           },
           "zerolinecolor": "white",
           "zerolinewidth": 2
          }
         }
        }
       }
      }
     },
     "metadata": {},
     "output_type": "display_data"
    }
   ],
   "source": [
    "fig = make_subplots(\n",
    "    rows=3, cols=4, subplot_titles=(\"HeartDisease\", \"Smoking\",\n",
    "                                    \"AlcoholDrinking\",\"Stroke\",\n",
    "                                    \"DiffWalking\", \"Sex\",\n",
    "                                    'Race', 'Diabetic',\n",
    "                                    'PhysicalActivity','GenHealth',\n",
    "                                    'Asthma', 'KidneyDisease',\n",
    "                                    'SkinCancer'),\n",
    "    specs=[[{\"type\": \"domain\"}, {\"type\": \"domain\"},{\"type\": \"domain\"}, {\"type\": \"domain\"}],\n",
    "       [{\"type\": \"domain\"}, {\"type\": \"domain\"},{\"type\": \"domain\"}, {\"type\": \"domain\"}],\n",
    "       [{\"type\": \"domain\"}, {\"type\": \"domain\"},{\"type\": \"domain\"}, {\"type\": \"domain\"}]],\n",
    ")\n",
    "\n",
    "colours = ['#4285f4', '#ea4335', '#fbbc05', '#34a853']\n",
    "\n",
    "fig.add_trace(go.Pie(labels=np.array(df['HeartDisease'].value_counts().index),\n",
    "                     values=[x for x in df['HeartDisease'].value_counts()], hole=.35,\n",
    "                     textinfo='label+percent', rotation=-45, marker_colors=colours),\n",
    "              row=1, col=1)\n",
    "\n",
    "fig.add_trace(go.Pie(labels=np.array(df['Smoking'].value_counts().index),\n",
    "                     values=[x for x in df['Smoking'].value_counts()], hole=.35,\n",
    "                     textinfo='label+percent', marker_colors=colours),\n",
    "              row=1, col=2)\n",
    "\n",
    "fig.add_trace(go.Pie(labels=np.array(df['AlcoholDrinking'].value_counts().index),\n",
    "                     values=[x for x in df['AlcoholDrinking'].value_counts()], hole=.35,\n",
    "                     textinfo='label+percent', rotation=-45, marker_colors=colours),\n",
    "              row=1, col=3)\n",
    "\n",
    "fig.add_trace(go.Pie(labels=np.array(df['Stroke'].value_counts().index),\n",
    "                     values=[x for x in df['Stroke'].value_counts()], hole=.35,\n",
    "                     textinfo='label+percent', rotation=-45, marker_colors=colours),\n",
    "              row=1, col=4)\n",
    "\n",
    "fig.add_trace(go.Pie(labels=np.array(df['DiffWalking'].value_counts().index),\n",
    "                     values=[x for x in df['DiffWalking'].value_counts()], hole=.35,\n",
    "                     textinfo='label+percent', marker_colors=colours),\n",
    "              row=2, col=1)\n",
    "\n",
    "fig.add_trace(go.Pie(labels=np.array(df['Sex'].value_counts().index),\n",
    "                     values=[x for x in df['Sex'].value_counts()], hole=.35,\n",
    "                     textinfo='label+percent', marker_colors=colours),\n",
    "              row=2, col=2)\n",
    "\n",
    "fig.add_trace(go.Pie(labels=np.array(df['Race'].value_counts().index),\n",
    "                     values=[x for x in df['Race'].value_counts()], hole=.35,\n",
    "                     textinfo='label+percent', rotation=-45, marker_colors=colours),\n",
    "              row=2, col=3)\n",
    "\n",
    "fig.add_trace(go.Pie(labels=np.array(df['PhysicalActivity'].value_counts().index),\n",
    "                     values=[x for x in df['PhysicalActivity'].value_counts()], hole=.35,\n",
    "                     textinfo='label+percent', marker_colors=colours),\n",
    "              row=2, col=4)\n",
    "\n",
    "fig.add_trace(go.Pie(labels=np.array(df['Diabetic'].value_counts().index),\n",
    "                     values=[x for x in df['Diabetic'].value_counts()], hole=.35,\n",
    "                     textinfo='label+percent', rotation=-45, marker_colors=colours),\n",
    "              row=3, col=1)\n",
    "\n",
    "fig.add_trace(go.Pie(labels=np.array(df['GenHealth'].value_counts().index),\n",
    "                     values=[x for x in df['GenHealth'].value_counts()], hole=.35,\n",
    "                     textinfo='label+percent', marker_colors=colours),\n",
    "              row=3, col=2)\n",
    "\n",
    "fig.add_trace(go.Pie(labels=np.array(df['Asthma'].value_counts().index),\n",
    "                     values=[x for x in df['Asthma'].value_counts()], hole=.35,\n",
    "                     textinfo='label+percent', rotation=-45, marker_colors=colours),\n",
    "              row=3, col=3)\n",
    "\n",
    "fig.add_trace(go.Pie(labels=np.array(df['KidneyDisease'].value_counts().index),\n",
    "                     values=[x for x in df['KidneyDisease'].value_counts()], hole=.35,\n",
    "                     textinfo='label+percent', rotation=-45, marker_colors=colours),\n",
    "              row=3, col=4)\n",
    "\n",
    "\n",
    "\n",
    "\n",
    "fig.update_layout(height=1500, font=dict(size=15), showlegend=False)\n",
    "\n",
    "fig.show()"
   ]
  },
  {
   "cell_type": "markdown",
   "metadata": {},
   "source": [
    "# Null values"
   ]
  },
  {
   "cell_type": "code",
   "execution_count": 197,
   "metadata": {},
   "outputs": [
    {
     "data": {
      "text/plain": [
       "HeartDisease        0\n",
       "BMI                 0\n",
       "Smoking             0\n",
       "AlcoholDrinking     0\n",
       "Stroke              0\n",
       "PhysicalHealth      0\n",
       "MentalHealth        0\n",
       "DiffWalking         0\n",
       "Sex                 0\n",
       "AgeCategory         0\n",
       "Race                0\n",
       "Diabetic            0\n",
       "PhysicalActivity    0\n",
       "GenHealth           0\n",
       "SleepTime           0\n",
       "Asthma              0\n",
       "KidneyDisease       0\n",
       "SkinCancer          0\n",
       "dtype: int64"
      ]
     },
     "execution_count": 197,
     "metadata": {},
     "output_type": "execute_result"
    }
   ],
   "source": [
    "df.isna().sum()"
   ]
  },
  {
   "cell_type": "markdown",
   "metadata": {},
   "source": [
    "# Duplicates"
   ]
  },
  {
   "cell_type": "code",
   "execution_count": 198,
   "metadata": {},
   "outputs": [],
   "source": [
    "print(df.duplicated().sum())\n",
    "print(df.drop_duplicates())"
   ]
  },
  {
   "cell_type": "markdown",
   "metadata": {},
   "source": [
    "# Binning"
   ]
  },
  {
   "cell_type": "code",
   "execution_count": 21,
   "metadata": {},
   "outputs": [],
   "source": [
    "def hist_plots(df):\n",
    "    plt.figure(figsize=(10,4))\n",
    "    plt.hist(df)\n",
    "    plt.title(\"Histogram Plot\")\n",
    "    plt.show()\n"
   ]
  },
  {
   "cell_type": "code",
   "execution_count": 23,
   "metadata": {},
   "outputs": [
    {
     "data": {
      "image/png": "[encoded data removed]",
      "text/plain": [
       "<Figure size 1500x800 with 1 Axes>"
      ]
     },
     "metadata": {},
     "output_type": "display_data"
    },
    {
     "data": {
      "image/png": "[encoded data removed]",
      "text/plain": [
       "<Figure size 1000x400 with 1 Axes>"
      ]
     },
     "metadata": {},
     "output_type": "display_data"
    },
    {
     "name": "stdout",
     "output_type": "stream",
     "text": [
      "Valor minimo 12.02\n",
      "Valor máximo 94.85\n"
     ]
    }
   ],
   "source": [
    "sns.boxplot(x=df['BMI'])\n",
    "hist_plots(df['BMI'])"
   ]
  },
  {
   "cell_type": "code",
   "execution_count": 201,
   "metadata": {},
   "outputs": [
    {
     "data": {
      "text/plain": [
       "<AxesSubplot:xlabel='SleepTime', ylabel='count'>"
      ]
     },
     "execution_count": 201,
     "metadata": {},
     "output_type": "execute_result"
    },
    {
     "data": {
      "image/png": "[encoded data removed]",
      "text/plain": [
       "<Figure size 1500x800 with 1 Axes>"
      ]
     },
     "metadata": {},
     "output_type": "display_data"
    }
   ],
   "source": [
    "sns.countplot(x=df['SleepTime'])"
   ]
  },
  {
   "cell_type": "code",
   "execution_count": 202,
   "metadata": {},
   "outputs": [
    {
     "data": {
      "text/plain": [
       "<AxesSubplot:xlabel='PhysicalHealth', ylabel='count'>"
      ]
     },
     "execution_count": 202,
     "metadata": {},
     "output_type": "execute_result"
    },
    {
     "data": {
      "image/png": "[encoded data removed]",
      "text/plain": [
       "<Figure size 1500x800 with 1 Axes>"
      ]
     },
     "metadata": {},
     "output_type": "display_data"
    }
   ],
   "source": [
    "sns.countplot(x=df['PhysicalHealth'])"
   ]
  },
  {
   "cell_type": "code",
   "execution_count": 203,
   "metadata": {},
   "outputs": [
    {
     "data": {
      "text/plain": [
       "<AxesSubplot:xlabel='MentalHealth', ylabel='count'>"
      ]
     },
     "execution_count": 203,
     "metadata": {},
     "output_type": "execute_result"
    },
    {
     "data": {
      "image/png": "[encoded data removed]",
      "text/plain": [
       "<Figure size 1500x800 with 1 Axes>"
      ]
     },
     "metadata": {},
     "output_type": "display_data"
    }
   ],
   "source": [
    "sns.countplot(x=df['MentalHealth'])"
   ]
  },
  {
   "cell_type": "markdown",
   "metadata": {},
   "source": [
    "Binning do BMI: \n",
    "\n",
    "(0,18.5] = Underweight\n",
    "\n",
    "(18.5,24.9] = Normal\n",
    "\n",
    "(24.9,29.9] = Overweight\n",
    "\n",
    "(29.9,34.9) = Obese\n",
    "\n",
    "(34.9,100) = Extremely Obese"
   ]
  },
  {
   "cell_type": "code",
   "execution_count": 204,
   "metadata": {},
   "outputs": [],
   "source": [
    "df['BMI']=pd.cut(x=df['BMI'],bins=[0,18.5,24.9,29.9,34.9,100],labels=['0','1','2','3','4'])\n",
    "\n",
    "replace_map = {'BMI':{'0':0, '1':1,'2':2,'3':3,'4':4}}\n",
    "df.replace(replace_map,inplace=True)"
   ]
  },
  {
   "cell_type": "code",
   "execution_count": 205,
   "metadata": {},
   "outputs": [
    {
     "data": {
      "text/plain": [
       "<AxesSubplot:xlabel='BMI'>"
      ]
     },
     "execution_count": 205,
     "metadata": {},
     "output_type": "execute_result"
    },
    {
     "data": {
      "image/png": "[encoded data removed]",
      "text/plain": [
       "<Figure size 1500x800 with 1 Axes>"
      ]
     },
     "metadata": {},
     "output_type": "display_data"
    }
   ],
   "source": [
    "sns.boxplot(x=df['BMI'])"
   ]
  },
  {
   "cell_type": "code",
   "execution_count": 206,
   "metadata": {},
   "outputs": [
    {
     "data": {
      "text/plain": [
       "<AxesSubplot:xlabel='BMI', ylabel='count'>"
      ]
     },
     "execution_count": 206,
     "metadata": {},
     "output_type": "execute_result"
    },
    {
     "data": {
      "image/png": "[encoded data removed]",
      "text/plain": [
       "<Figure size 1500x800 with 1 Axes>"
      ]
     },
     "metadata": {},
     "output_type": "display_data"
    }
   ],
   "source": [
    "sns.countplot(x=df['BMI'])"
   ]
  },
  {
   "cell_type": "code",
   "execution_count": 207,
   "metadata": {},
   "outputs": [
    {
     "data": {
      "text/plain": [
       "<AxesSubplot:xlabel='SleepTime', ylabel='count'>"
      ]
     },
     "execution_count": 207,
     "metadata": {},
     "output_type": "execute_result"
    },
    {
     "data": {
      "image/png": "[encoded data removed]",
      "text/plain": [
       "<Figure size 1500x800 with 1 Axes>"
      ]
     },
     "metadata": {},
     "output_type": "display_data"
    }
   ],
   "source": [
    "df['SleepTime']=pd.cut(x=df['SleepTime'],bins=[-1,4,6,8,10,12,14,24],labels=[0,1,2,3,4,5,6])\n",
    "sns.countplot(x=df['SleepTime'])"
   ]
  },
  {
   "cell_type": "code",
   "execution_count": 208,
   "metadata": {},
   "outputs": [
    {
     "data": {
      "text/plain": [
       "<AxesSubplot:xlabel='PhysicalHealth', ylabel='count'>"
      ]
     },
     "execution_count": 208,
     "metadata": {},
     "output_type": "execute_result"
    },
    {
     "data": {
      "image/png": "[encoded data removed]",
      "text/plain": [
       "<Figure size 1500x800 with 1 Axes>"
      ]
     },
     "metadata": {},
     "output_type": "display_data"
    }
   ],
   "source": [
    "df['PhysicalHealth']=pd.cut(x=df['PhysicalHealth'],bins=[-1,5,10,15,20,25,35],labels=[0,1,2,3,4,5])\n",
    "sns.countplot(x=df['PhysicalHealth'])"
   ]
  },
  {
   "cell_type": "code",
   "execution_count": 209,
   "metadata": {},
   "outputs": [
    {
     "data": {
      "text/plain": [
       "<AxesSubplot:xlabel='MentalHealth', ylabel='count'>"
      ]
     },
     "execution_count": 209,
     "metadata": {},
     "output_type": "execute_result"
    },
    {
     "data": {
      "image/png": "[encoded data removed]",
      "text/plain": [
       "<Figure size 1500x800 with 1 Axes>"
      ]
     },
     "metadata": {},
     "output_type": "display_data"
    }
   ],
   "source": [
    "df['MentalHealth']=pd.cut(x=df['MentalHealth'],bins=[-1,5,10,15,20,25,35],labels=[0,1,2,3,4,5])\n",
    "sns.countplot(x=df['MentalHealth'])"
   ]
  }
 ],
 "metadata": {
  "kernelspec": {
   "display_name": "Python 3.7.0 ('env3.7')",
   "language": "python",
   "name": "python3"
  },
  "language_info": {
   "codemirror_mode": {
    "name": "ipython",
    "version": 3
   },
   "file_extension": ".py",
   "mimetype": "text/x-python",
   "name": "python",
   "nbconvert_exporter": "python",
   "pygments_lexer": "ipython3",
   "version": "3.7.0 (default, Jun 28 2018, 08:04:48) [MSC v.1912 64 bit (AMD64)]"
  },
  "orig_nbformat": 4,
  "vscode": {
   "interpreter": {
    "hash": "7d01ebad83f1e573303b379f432ff0608821921c78460387fd729ca46a3d8255"
   }
  }
 },
 "nbformat": 4,
 "nbformat_minor": 2
}
