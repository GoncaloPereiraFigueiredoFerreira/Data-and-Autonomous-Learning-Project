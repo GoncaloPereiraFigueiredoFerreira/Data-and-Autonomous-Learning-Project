{
 "cells": [
  {
   "cell_type": "code",
   "execution_count": null,
   "metadata": {},
   "outputs": [],
   "source": [
    "\n",
    "import pandas as pd # data processing, CSV file I/O (e.g. pd.read_csv)\n",
    "from sklearn.model_selection import train_test_split\n",
    "from sklearn.utils import resample\n",
    "from sklearn.preprocessing import MinMaxScaler\n",
    "import imblearn \n",
    "from imblearn.over_sampling import SMOTE\n",
    "from sklearn.preprocessing import LabelEncoder\n",
    "from sklearn.preprocessing import OneHotEncoder\n",
    "import seaborn as sns\n",
    "import matplotlib.pyplot as plt"
   ]
  },
  {
   "cell_type": "code",
   "execution_count": null,
   "metadata": {},
   "outputs": [],
   "source": [
    "df = pd.read_csv('.\\heart_2020_cleaned.csv')"
   ]
  },
  {
   "attachments": {},
   "cell_type": "markdown",
   "metadata": {},
   "source": [
    "# Duplacates Drop"
   ]
  },
  {
   "cell_type": "code",
   "execution_count": null,
   "metadata": {},
   "outputs": [],
   "source": [
    "print(df.duplicated().sum())\n",
    "print(df.drop_duplicates())\n",
    "df['HeartDisease'].value_counts()"
   ]
  },
  {
   "attachments": {},
   "cell_type": "markdown",
   "metadata": {},
   "source": [
    "# Encoding"
   ]
  },
  {
   "cell_type": "code",
   "execution_count": null,
   "metadata": {},
   "outputs": [],
   "source": [
    "replace_map = {'HeartDisease':{'Yes':1,'No':0}}\n",
    "df.replace(replace_map,inplace=True)\n",
    "\n",
    "replace_map = {'Smoking':{'Yes':1, 'No':0}}\n",
    "df.replace(replace_map,inplace=True)\n",
    "\n",
    "replace_map = {'AlcoholDrinking':{'Yes':1, 'No':0}}\n",
    "df.replace(replace_map,inplace=True)\n",
    "\n",
    "replace_map = {'Stroke':{'Yes':1, 'No':0}}\n",
    "df.replace(replace_map,inplace=True)\n",
    "\n",
    "replace_map = {'DiffWalking':{'Yes':1, 'No':0}}\n",
    "df.replace(replace_map,inplace=True)\n",
    "\n",
    "replace_map = {'Sex':{'Female':1, 'Male':0}}\n",
    "df.replace(replace_map,inplace=True)\n",
    "\n",
    "replace_map = {'AgeCategory':{'18-24':0, '25-29':1,'30-34':3,'35-39':5,'40-44':8,'45-49':12,'50-54':17,'55-59':23,'60-64':30,'65-69':38,'70-74':47,'75-79':57,'80 or older':70}}\n",
    "df.replace(replace_map,inplace=True)\n",
    "\n",
    "#Is white || is black || is Asian ||is American Indian/Alaskan Native || is Hispanic || is Other\n",
    "encoder = OneHotEncoder(handle_unknown='ignore')\n",
    "\n",
    "encoder_df=pd.DataFrame(encoder.fit_transform(df[['Race','Diabetic']]).toarray())\n",
    "encoder_df.columns=['Race0','Race1','Race2','Race3','Race4','Race5','NotDiabetic','Diabetic during pregnancy','Borderline diabetes','IsDiabetic']\n",
    "df=df.join(encoder_df)\n",
    "\n",
    "\n",
    "df['BMI']=pd.cut(x=df['BMI'],bins=[0,18.5,24.9,29.9,34.9,100],labels=['0','1','2','3','4'])\n",
    "replace_map = {'BMI':{'0':0, '1':1,'2':2,'3':5,'4':10}}\n",
    "df.replace(replace_map,inplace=True)\n",
    "\n",
    "df['SleepTime']=pd.cut(x=df['SleepTime'],bins=[-1,4,6,8,10,12,14,24],labels=['0','1','2','3','4','5','6'])\n",
    "replace_map = {'SleepTime':{'0':0, '1':1,'2':2,'3':3,'4':4,'5':5,'6':6}}\n",
    "df.replace(replace_map,inplace=True)\n",
    "\n",
    "df['PhysicalHealth']=pd.cut(x=df['PhysicalHealth'],bins=[-1,5,10,15,20,25,35],labels=['0','1','2','3','4','5'])\n",
    "replace_map = {'PhysicalHealth':{'0':0, '1':2,'2':4,'3':6,'4':8,'5':10}}\n",
    "df.replace(replace_map,inplace=True)\n",
    "\n",
    "df['MentalHealth']=pd.cut(x=df['MentalHealth'],bins=[-1,5,10,15,20,25,35],labels=['0','1','2','3','4','5'])\n",
    "replace_map = {'MentalHealth':{'0':0, '1':2,'2':4,'3':6,'4':8,'5':10}}\n",
    "df.replace(replace_map,inplace=True)\n",
    "\n",
    "\n",
    "replace_map = {'PhysicalActivity':{'Yes':1, 'No':0}}\n",
    "df.replace(replace_map,inplace=True)\n",
    "\n",
    "replace_map = {'GenHealth':{'Poor':0, 'Fair':4,'Good':6,'Very good':7,'Excellent':8}}\n",
    "df.replace(replace_map,inplace=True)\n",
    "\n",
    "replace_map = {'Asthma':{'Yes':1, 'No':0}}\n",
    "df.replace(replace_map,inplace=True)\n",
    "\n",
    "replace_map = {'KidneyDisease':{'Yes':1, 'No':0}}\n",
    "df.replace(replace_map,inplace=True)\n",
    "\n",
    "replace_map = {'SkinCancer':{'Yes':1, 'No':0}}\n",
    "df.replace(replace_map,inplace=True)\n",
    "\n",
    "def criar_coluna(colunas,valores):\n",
    "    lista = []\n",
    "    for index, row in df.iterrows():\n",
    "        flag = True\n",
    "        for i in range(len(colunas)):\n",
    "            flag2 = False\n",
    "            for j in valores[i]:\n",
    "                if(row[colunas[i]]==j): flag2=True\n",
    "            if (not flag2) : flag = False \n",
    "        if (flag): lista.append(1)\n",
    "        else : lista.append(0)\n",
    "    return lista\n",
    "\n",
    "def criar_coluna2(colunas,valores):\n",
    "    lista = []\n",
    "    for index, row in df.iterrows():\n",
    "        flag = False\n",
    "        for i in range(len(colunas)):\n",
    "            for j in valores[i]:\n",
    "                if(row[colunas[i]]==j): flag=True\n",
    "        if (flag): lista.append(1)\n",
    "        else : lista.append(0)\n",
    "    return lista\n",
    "\n",
    "#nova_coluna = criar_coluna(['Borderline diabetes','BMI','PhysicalActivity','PhysicalHealth'],[[1],[5,10],[0],[10,15,30]])\n",
    "#df['Obesidade']= nova_coluna\n",
    "\n",
    "#nova_coluna= criar_coluna(['BMI','PhysicalHealth','PhysicalActivity'],[[3,4],[3,4,5],[0]])\n",
    "#df['Obesidade']= nova_coluna\n",
    "\n",
    "#nova_coluna= criar_coluna2(['Borderline diabetes','IsDiabetic'],[[1],[1]])\n",
    "#df['Diabetes']= nova_coluna\n",
    "\n",
    "#nova_coluna= criar_coluna(['Stroke','Smoking','AlcoholDrinking','DiffWalking'],[[1],[1],[1],[1]])\n",
    "#df['Dying']= nova_coluna\n",
    "\n",
    "df=df.drop(['Race','Diabetic'],axis=1)\n",
    "\n",
    "scaler_df= MinMaxScaler(feature_range=(0,1)).fit(df)\n",
    "df= pd.DataFrame(scaler_df.transform(df[df.columns]),columns=df.columns)"
   ]
  },
  {
   "cell_type": "markdown",
   "metadata": {},
   "source": [
    "# Correlation matrix"
   ]
  },
  {
   "cell_type": "code",
   "execution_count": null,
   "metadata": {},
   "outputs": [],
   "source": [
    "matrix = df.corr()\n",
    "sns.set(rc={'figure.figsize':(30,16)})\n",
    "sns.heatmap(matrix,annot=True)\n",
    "plt.show()"
   ]
  },
  {
   "cell_type": "code",
   "execution_count": null,
   "metadata": {},
   "outputs": [],
   "source": [
    "\n",
    "df=df.drop(labels=['SleepTime','AlcoholDrinking','Race0','Race1','Race2','Race3','Race4','Race5','Sex','MentalHealth','NotDiabetic','GenHealth'],axis=1)\n",
    "#df=df.drop(labels=['SleepTime','PhysicalHealth','Borderline diabetes','Asthma','PhysicalActivity','NotDiabetic','Race0','Race1','Race2','Race3','Race4','Race5','Sex','MentalHealth','AlcoholDrinking','BMI','IsDiabetic','Diabetic during pregnancy'],axis=1)\n"
   ]
  },
  {
   "cell_type": "code",
   "execution_count": null,
   "metadata": {},
   "outputs": [],
   "source": [
    "matrix = df.corr()\n",
    "sns.set(rc={'figure.figsize':(30,16)})\n",
    "sns.heatmap(matrix,annot=True,vmax=0.25)\n",
    "plt.show()"
   ]
  },
  {
   "cell_type": "code",
   "execution_count": null,
   "metadata": {},
   "outputs": [],
   "source": [
    "df_train,df_test = train_test_split(df,test_size=0.3,random_state=13122001,shuffle=True)"
   ]
  },
  {
   "cell_type": "markdown",
   "metadata": {},
   "source": [
    "# SMOTE"
   ]
  },
  {
   "cell_type": "code",
   "execution_count": null,
   "metadata": {},
   "outputs": [],
   "source": [
    "\n",
    "# Resampling the minority class. The strategy can be changed as required.\n",
    "sm = SMOTE(sampling_strategy={0:204599  ,1:40000}, random_state=42)\n",
    "# Fit the model to generate the data.\n",
    "oversampled_X, oversampled_Y = sm.fit_resample(df_train.drop('HeartDisease', axis=1), df_train['HeartDisease'])\n",
    "df_train = pd.concat([pd.DataFrame(oversampled_Y), pd.DataFrame(oversampled_X)], axis=1)\n",
    "print(df_train['HeartDisease'].value_counts())\n",
    "df_train\n"
   ]
  },
  {
   "attachments": {},
   "cell_type": "markdown",
   "metadata": {},
   "source": [
    "# OverSampling"
   ]
  },
  {
   "cell_type": "code",
   "execution_count": null,
   "metadata": {},
   "outputs": [],
   "source": [
    "\n",
    "\n",
    "#create two different dataframe of majority and minority class\n",
    "df_majority = df_train[(df['HeartDisease']==0)]\n",
    "df_minority = df_train[(df['HeartDisease']==1)]\n",
    "#upsample minority class\n",
    "df_minority_upsampled = resample(df_minority,\n",
    "                               replace=True,\n",
    "                               n_samples=40000,\n",
    "                               random_state=13122001)\n",
    "#combine majority class with upsampled minority class\n",
    "df_train=pd.concat([df_minority_upsampled,df_majority])\n",
    "df_train\n",
    "\n",
    "'''\n",
    "df_majority = df_train[(df['HeartDisease']==0)]\n",
    "df_minority = df_train[(df['HeartDisease']==1)]\n",
    "df_majority_downsampled= df_majority.iloc[:50000]\n",
    "df_train=pd.concat([df_majority_downsampled,df_minority])\n",
    "'''\n"
   ]
  },
  {
   "attachments": {},
   "cell_type": "markdown",
   "metadata": {},
   "source": [
    "# UnderSampling NearMiss e cópia dos Data Sets para Ficheiro"
   ]
  },
  {
   "cell_type": "code",
   "execution_count": null,
   "metadata": {},
   "outputs": [],
   "source": [
    "\n",
    "from imblearn.under_sampling import NearMiss\n",
    "\n",
    "X_train=df_train.drop(['HeartDisease'],axis=1)\n",
    "y_train=df_train['HeartDisease'].to_frame()\n",
    "nr = NearMiss(sampling_strategy={0:150000,1:19006})\n",
    "\n",
    "X_test=df_test.drop(['HeartDisease'],axis=1)\n",
    "y_test=df_test['HeartDisease'].to_frame()\n",
    "\n",
    "X_train2,y_train2=nr.fit_resample(X_train,y_train)\n",
    "\n",
    "X_train2.to_csv('.\\X_train.csv',index=False)\n",
    "y_train2.to_csv('.\\y_train.csv',index=False)\n",
    "\n",
    "\n",
    "X_test.to_csv('.\\X_test.csv',index=False)\n",
    "y_test.to_csv('.\\y_test.csv',index=False)\n",
    "df.to_csv('.\\df.csv',index=False)\n"
   ]
  },
  {
   "attachments": {},
   "cell_type": "markdown",
   "metadata": {},
   "source": [
    "# Cópia dos DataSets para ficheiro"
   ]
  },
  {
   "cell_type": "code",
   "execution_count": null,
   "metadata": {},
   "outputs": [],
   "source": [
    "'''\n",
    "X_train=df_train.drop(['HeartDisease'],axis=1)\n",
    "y_train=df_train['HeartDisease'].to_frame()\n",
    "\n",
    "\n",
    "X_test=df_test.drop(['HeartDisease'],axis=1)\n",
    "y_test=df_test['HeartDisease'].to_frame()\n",
    "\n",
    "\n",
    "X_train.to_csv('.\\X_train.csv',index=False)\n",
    "y_train.to_csv('.\\y_train.csv',index=False)\n",
    "\n",
    "X_test.to_csv('.\\X_test.csv',index=False)\n",
    "y_test.to_csv('.\\y_test.csv',index=False)\n",
    "df.to_csv('.\\df.csv',index=False)\n",
    "'''"
   ]
  },
  {
   "cell_type": "code",
   "execution_count": null,
   "metadata": {},
   "outputs": [],
   "source": [
    "#y_train2.value_counts()"
   ]
  },
  {
   "cell_type": "code",
   "execution_count": null,
   "metadata": {},
   "outputs": [],
   "source": [
    "print(df_test['HeartDisease'].value_counts())\n",
    "print(df_train['HeartDisease'].value_counts())"
   ]
  },
  {
   "cell_type": "code",
   "execution_count": null,
   "metadata": {},
   "outputs": [],
   "source": [
    "df_train"
   ]
  }
 ],
 "metadata": {
  "kernelspec": {
   "display_name": "Python 3.7.0 ('env3.7')",
   "language": "python",
   "name": "python3"
  },
  "language_info": {
   "codemirror_mode": {
    "name": "ipython",
    "version": 3
   },
   "file_extension": ".py",
   "mimetype": "text/x-python",
   "name": "python",
   "nbconvert_exporter": "python",
   "pygments_lexer": "ipython3",
   "version": "3.7.0"
  },
  "orig_nbformat": 4,
  "vscode": {
   "interpreter": {
    "hash": "7d01ebad83f1e573303b379f432ff0608821921c78460387fd729ca46a3d8255"
   }
  }
 },
 "nbformat": 4,
 "nbformat_minor": 2
}
