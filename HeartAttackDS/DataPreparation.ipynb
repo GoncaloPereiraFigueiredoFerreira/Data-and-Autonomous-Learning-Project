{
 "cells": [
  {
   "cell_type": "code",
   "execution_count": null,
   "metadata": {},
   "outputs": [],
   "source": [
    "\n",
    "import pandas as pd # data processing, CSV file I/O (e.g. pd.read_csv)\n",
    "from sklearn.model_selection import train_test_split\n",
    "from sklearn.utils import resample\n",
    "from sklearn.preprocessing import MinMaxScaler\n",
    "import imblearn \n",
    "from imblearn.over_sampling import SMOTE"
   ]
  },
  {
   "cell_type": "code",
   "execution_count": null,
   "metadata": {},
   "outputs": [],
   "source": [
    "df = pd.read_csv('.\\heart_2020_cleaned.csv')"
   ]
  },
  {
   "cell_type": "code",
   "execution_count": null,
   "metadata": {},
   "outputs": [],
   "source": [
    "replace_map = {'HeartDisease':{'Yes':1,'No':0}}\n",
    "df.replace(replace_map,inplace=True)\n",
    "\n",
    "replace_map = {'Smoking':{'Yes':1, 'No':0}}\n",
    "df.replace(replace_map,inplace=True)\n",
    "\n",
    "replace_map = {'AlcoholDrinking':{'Yes':1, 'No':0}}\n",
    "df.replace(replace_map,inplace=True)\n",
    "\n",
    "replace_map = {'Stroke':{'Yes':1, 'No':0}}\n",
    "df.replace(replace_map,inplace=True)\n",
    "\n",
    "replace_map = {'DiffWalking':{'Yes':1, 'No':0}}\n",
    "df.replace(replace_map,inplace=True)\n",
    "\n",
    "replace_map = {'Sex':{'Female':1, 'Male':0}}\n",
    "df.replace(replace_map,inplace=True)\n",
    "\n",
    "replace_map = {'AgeCategory':{'18-24':0, '25-29':1,'30-34':2,'35-39':3,'40-44':4,'45-49':5,'50-54':6,'55-59':7,'60-64':8,'65-69':9,'70-74':10,'75-79':11,'80 or older':12}}\n",
    "df.replace(replace_map,inplace=True)\n",
    "\n",
    "#Is white || is black || is Asian ||is American Indian/Alaskan Native || is Hispanic || is Other\n",
    "\n",
    "\n",
    "replace_map = {'White':1, 'Black':0,'Asian':0,'American Indian/Alaskan Native':0,'Hispanic':0,'Other':0}\n",
    "df['isWhite']=df['Race']\n",
    "df['isWhite'].replace(replace_map,inplace=True)\n",
    "\n",
    "replace_map = {'White':0, 'Black':1,'Asian':0,'American Indian/Alaskan Native':0,'Hispanic':0,'Other':0}\n",
    "df['isBlack']=df['Race']\n",
    "df['isBlack'].replace(replace_map,inplace=True)\n",
    "\n",
    "replace_map = {'White':0, 'Black':0,'Asian':1,'American Indian/Alaskan Native':0,'Hispanic':0,'Other':0}\n",
    "df['isAsian']=df['Race']\n",
    "df['isAsian'].replace(replace_map,inplace=True)\n",
    "\n",
    "replace_map = {'White':0, 'Black':0,'Asian':0,'American Indian/Alaskan Native':1,'Hispanic':0,'Other':0}\n",
    "df['isAmerican']=df['Race']\n",
    "df['isAmerican'].replace(replace_map,inplace=True)\n",
    "\n",
    "replace_map = {'White':0, 'Black':0,'Asian':0,'American Indian/Alaskan Native':0,'Hispanic':1,'Other':0}\n",
    "df['isHispanic']=df['Race']\n",
    "df['isHispanic'].replace(replace_map,inplace=True)\n",
    "\n",
    "replace_map = {'White':0, 'Black':0,'Asian':0,'American Indian/Alaskan Native':0,'Hispanic':0,'Other':1}\n",
    "df['isOther']=df['Race']\n",
    "df['isOther'].replace(replace_map,inplace=True)\n",
    "\n",
    "\n",
    "replace_map = {'Diabetic':{'No':0,'Yes (during pregnancy)':1,'No, borderline diabetes':2,'Yes':3}}\n",
    "df.replace(replace_map,inplace=True)\n",
    "\n",
    "replace_map = {'PhysicalActivity':{'Yes':1, 'No':0}}\n",
    "df.replace(replace_map,inplace=True)\n",
    "\n",
    "replace_map = {'GenHealth':{'Very good':0, 'Fair':1,'Good':2,'Poor':3,'Excellent':4}}\n",
    "df.replace(replace_map,inplace=True)\n",
    "\n",
    "replace_map = {'Asthma':{'Yes':1, 'No':0}}\n",
    "df.replace(replace_map,inplace=True)\n",
    "\n",
    "replace_map = {'KidneyDisease':{'Yes':1, 'No':0}}\n",
    "df.replace(replace_map,inplace=True)\n",
    "\n",
    "replace_map = {'SkinCancer':{'Yes':1, 'No':0}}\n",
    "df.replace(replace_map,inplace=True)\n",
    "\n",
    "\n",
    "\n",
    "df=df.drop(['Race'],axis=1)\n",
    "\n",
    "scaler_df= MinMaxScaler(feature_range=(0,1)).fit(df)\n",
    "df= pd.DataFrame(scaler_df.transform(df[df.columns]),columns=df.columns)\n",
    "df\n",
    "\n"
   ]
  },
  {
   "cell_type": "code",
   "execution_count": null,
   "metadata": {},
   "outputs": [],
   "source": [
    "df_train,df_test = train_test_split(df,test_size=0.3,random_state=13122001)"
   ]
  },
  {
   "cell_type": "markdown",
   "metadata": {},
   "source": [
    "# SMOTE"
   ]
  },
  {
   "cell_type": "code",
   "execution_count": null,
   "metadata": {},
   "outputs": [],
   "source": [
    "\n",
    "# Resampling the minority class. The strategy can be changed as required.\n",
    "sm = SMOTE(sampling_strategy='minority', random_state=42)\n",
    "# Fit the model to generate the data.\n",
    "oversampled_X, oversampled_Y = sm.fit_resample(df_train.drop('HeartDisease', axis=1), df_train['HeartDisease'])\n",
    "df_train = pd.concat([pd.DataFrame(oversampled_Y), pd.DataFrame(oversampled_X)], axis=1)\n",
    "print(df_train['HeartDisease'].value_counts())\n",
    "df_train"
   ]
  },
  {
   "cell_type": "code",
   "execution_count": null,
   "metadata": {},
   "outputs": [],
   "source": [
    "\n",
    "#create two different dataframe of majority and minority class\n",
    "df_majority = df_train[(df['HeartDisease']==0)]\n",
    "df_minority = df_train[(df['HeartDisease']==1)]\n",
    "#upsample minority class\n",
    "df_minority_upsampled = resample(df_minority,\n",
    "                               replace=True,\n",
    "                               n_samples=204599,\n",
    "                               random_state=13122001)\n",
    "#combine majority class with upsampled minority class\n",
    "df_train=pd.concat([df_minority_upsampled,df_majority])\n",
    "df_train"
   ]
  },
  {
   "cell_type": "code",
   "execution_count": null,
   "metadata": {},
   "outputs": [],
   "source": [
    "X_train=df_train.drop(['HeartDisease'],axis=1)\n",
    "y_train=df_train['HeartDisease'].to_frame()\n",
    "X_test=df_test.drop(['HeartDisease'],axis=1)\n",
    "y_test=df_test['HeartDisease'].to_frame()\n",
    "X_train.to_csv('.\\X_train.csv')\n",
    "y_train.to_csv('.\\y_train.csv')\n",
    "X_test.to_csv('.\\X_test.csv')\n",
    "y_test.to_csv('.\\y_test.csv')\n",
    "df.to_csv('.\\df.csv')"
   ]
  },
  {
   "cell_type": "code",
   "execution_count": null,
   "metadata": {},
   "outputs": [],
   "source": [
    "print(df_test['HeartDisease'].value_counts())"
   ]
  }
 ],
 "metadata": {
  "kernelspec": {
   "display_name": "Python 3.7.0 ('env3.7')",
   "language": "python",
   "name": "python3"
  },
  "language_info": {
   "codemirror_mode": {
    "name": "ipython",
    "version": 3
   },
   "file_extension": ".py",
   "mimetype": "text/x-python",
   "name": "python",
   "nbconvert_exporter": "python",
   "pygments_lexer": "ipython3",
   "version": "3.7.0"
  },
  "orig_nbformat": 4,
  "vscode": {
   "interpreter": {
    "hash": "8a364a7d846dbb36f989684533c9a517e195ef67ca3c9134c04d46257ada8f9d"
   }
  }
 },
 "nbformat": 4,
 "nbformat_minor": 2
}
