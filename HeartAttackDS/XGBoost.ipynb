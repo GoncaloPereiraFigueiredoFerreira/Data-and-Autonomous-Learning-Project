{
 "cells": [
  {
   "cell_type": "code",
   "execution_count": null,
   "metadata": {},
   "outputs": [],
   "source": [
    "import numpy as np # linear algebra\n",
    "import pandas as pd # data processing, CSV file I/O (e.g. pd.read_csv)\n",
    "import sklearn as skl\n",
    "import matplotlib.pyplot as plt\n",
    "import seaborn as sns\n",
    "\n",
    "from sklearn import preprocessing\n",
    "from sklearn.tree import DecisionTreeClassifier\n",
    "from sklearn.metrics import confusion_matrix,accuracy_score,precision_score,recall_score\n",
    "from sklearn.utils import resample\n",
    "from sklearn.ensemble import RandomForestClassifier\n",
    "from sklearn.metrics import classification_report, plot_confusion_matrix,f1_score\n",
    "from sklearn.model_selection import GridSearchCV, KFold,cross_val_score, RandomizedSearchCV,train_test_split\n",
    "from sklearn import metrics\n",
    "from xgboost import XGBClassifier\n",
    "import xgboost as xgb\n",
    "from scipy.stats import uniform, randint\n",
    "\n",
    "RANDOM_SEED = 13122001"
   ]
  },
  {
   "cell_type": "code",
   "execution_count": null,
   "metadata": {},
   "outputs": [],
   "source": [
    "X_train= pd.read_csv('X_train.csv')\n",
    "X_test=pd.read_csv('X_test.csv')\n",
    "y_test=pd.read_csv('y_test.csv')\n",
    "y_train=pd.read_csv('y_train.csv')\n",
    "df=pd.read_csv('df.csv')\n",
    "df"
   ]
  },
  {
   "attachments": {},
   "cell_type": "markdown",
   "metadata": {},
   "source": [
    "# XGBoost"
   ]
  },
  {
   "cell_type": "code",
   "execution_count": null,
   "metadata": {},
   "outputs": [],
   "source": [
    "#param_grid = {'n_estimators':[300]\n",
    "#              ,'max_depth':[100]\n",
    "#              ,'learning_rate':[0.9]\n",
    "#              }\n",
    "#              \n",
    "#kf = KFold(n_splits=5,shuffle=True,random_state=RANDOM_SEED)\n",
    "#\n",
    "#model= XGBClassifier(random_state=13122001,n_estimators=200,max_depth=100)\n",
    "#grid = GridSearchCV(model\n",
    "#                    ,cv=kf\n",
    "#                    ,param_grid=param_grid\n",
    "#                    ,refit=True\n",
    "#                    ,verbose=3\n",
    "#                    ,scoring = 'accuracy')\n",
    "#grid.fit(X_train,np.ravel(y_train))\n",
    "#\n",
    "#prediction =grid.best_estimator_.predict(X_test)\n",
    "#print(classification_report(y_test,prediction))\n",
    "#print('Accuracy',metrics.accuracy_score(y_test,prediction))"
   ]
  },
  {
   "cell_type": "code",
   "execution_count": null,
   "metadata": {},
   "outputs": [],
   "source": [
    "#print(confusion_matrix(y_test,prediction))\n",
    "#print('Accuracy',metrics.accuracy_score(y_test,prediction))\n",
    "#print('F1_score',f1_score(y_test,prediction, average='macro'))\n",
    "#print('Recall',recall_score(y_test,prediction))"
   ]
  },
  {
   "cell_type": "code",
   "execution_count": null,
   "metadata": {},
   "outputs": [],
   "source": [
    "params = {\n",
    "    \"colsample_bytree\": uniform(0.7, 0.3)\n",
    "    ,\"gamma\": uniform(0, 0.5)\n",
    "    ,\"learning_rate\": uniform(0.03, 0.3) # default 0.1 \n",
    "    ,\"max_depth\": randint(2, 6) # default 3\n",
    "    ,\"n_estimators\": randint(100, 1000) # default 100\n",
    "    ,\"subsample\": uniform(0.6, 0.4)\n",
    "}\n",
    "kf = KFold(n_splits=5,shuffle=True,random_state=RANDOM_SEED)\n",
    "\n",
    "model= XGBClassifier(random_state=13122001,n_estimators=200,max_depth=100)\n",
    "\n",
    "search = RandomizedSearchCV(model, param_distributions=params, random_state=42, cv=3, verbose=2, n_jobs=1, return_train_score=True)\n",
    "\n",
    "search.fit(X_train,np.ravel(y_train))\n",
    "\n",
    "prediction =search.best_estimator_.predict(X_test)\n",
    "print(classification_report(y_test,prediction))\n",
    "print('Accuracy',metrics.accuracy_score(y_test,prediction))"
   ]
  },
  {
   "cell_type": "code",
   "execution_count": null,
   "metadata": {},
   "outputs": [],
   "source": [
    "print(f1_score(y_test,prediction, average='macro'))\n",
    "print(f1_score(y_test,prediction, average='micro'))\n",
    "print(f1_score(y_test,prediction, average='weighted'))"
   ]
  },
  {
   "cell_type": "code",
   "execution_count": null,
   "metadata": {},
   "outputs": [],
   "source": [
    "plot_confusion_matrix(search.best_estimator_,X_test,y_test)"
   ]
  }
 ],
 "metadata": {
  "kernelspec": {
   "display_name": "env3.7",
   "language": "python",
   "name": "python3"
  },
  "language_info": {
   "codemirror_mode": {
    "name": "ipython",
    "version": 3
   },
   "file_extension": ".py",
   "mimetype": "text/x-python",
   "name": "python",
   "nbconvert_exporter": "python",
   "pygments_lexer": "ipython3",
   "version": "3.7.0 (default, Jun 28 2018, 08:04:48) [MSC v.1912 64 bit (AMD64)]"
  },
  "orig_nbformat": 4,
  "vscode": {
   "interpreter": {
    "hash": "7d01ebad83f1e573303b379f432ff0608821921c78460387fd729ca46a3d8255"
   }
  }
 },
 "nbformat": 4,
 "nbformat_minor": 2
}
