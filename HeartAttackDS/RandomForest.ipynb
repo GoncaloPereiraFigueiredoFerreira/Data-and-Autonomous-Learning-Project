{
 "cells": [
  {
   "cell_type": "code",
   "execution_count": null,
   "metadata": {},
   "outputs": [],
   "source": [
    "import numpy as np # linear algebra\n",
    "import pandas as pd # data processing, CSV file I/O (e.g. pd.read_csv)\n",
    "import sklearn as skl\n",
    "import matplotlib.pyplot as plt\n",
    "import seaborn as sns\n",
    "\n",
    "from sklearn import preprocessing\n",
    "from sklearn.model_selection import train_test_split,cross_val_score\n",
    "from sklearn.tree import DecisionTreeClassifier\n",
    "from sklearn.metrics import confusion_matrix,accuracy_score,precision_score,recall_score,f1_score\n",
    "from sklearn.utils import resample\n",
    "from sklearn.ensemble import RandomForestClassifier\n",
    "from sklearn.metrics import classification_report, plot_confusion_matrix\n",
    "from sklearn.model_selection import GridSearchCV, KFold,cross_val_score,RandomizedSearchCV\n",
    "from sklearn import metrics\n",
    "from scipy.stats import uniform, randint\n",
    "\n",
    "RANDOM_SEED = 13122001"
   ]
  },
  {
   "cell_type": "code",
   "execution_count": null,
   "metadata": {},
   "outputs": [],
   "source": [
    "X_train= pd.read_csv('X_train.csv')\n",
    "X_test=pd.read_csv('X_test.csv')\n",
    "y_test=pd.read_csv('y_test.csv')\n",
    "y_train=pd.read_csv('y_train.csv')\n",
    "df=pd.read_csv('df.csv')\n",
    "y_train.value_counts()\n"
   ]
  },
  {
   "cell_type": "markdown",
   "metadata": {},
   "source": [
    "# DecisionTreeClassifier"
   ]
  },
  {
   "cell_type": "code",
   "execution_count": null,
   "metadata": {},
   "outputs": [],
   "source": [
    "##Create an instance of a Decision Tree classifier \n",
    "clf= DecisionTreeClassifier(random_state=13)\n",
    "##Training,i.e,fitting the model(using the training data)\n",
    "clf.fit(X_train,y_train)\n",
    "predictions= clf.predict(X_test)"
   ]
  },
  {
   "cell_type": "code",
   "execution_count": null,
   "metadata": {},
   "outputs": [],
   "source": [
    "print(confusion_matrix(y_test,predictions))\n",
    "print(accuracy_score(y_test,predictions))"
   ]
  },
  {
   "cell_type": "markdown",
   "metadata": {},
   "source": [
    "# RandomForest"
   ]
  },
  {
   "cell_type": "code",
   "execution_count": null,
   "metadata": {},
   "outputs": [],
   "source": [
    "'''\n",
    "param_grid = {'n_estimators':[300]\n",
    "              ,'criterion':['gini','entropy','log_loss']\n",
    "              ,'max_depth':[100]\n",
    "              #,'min_samples_split':[2]\n",
    "              #,'min_samples_leaf':[1]\n",
    "              #,'bootstrap':[True]\n",
    "              #,'max_samples':[None]\n",
    "              }\n",
    "kf = KFold(n_splits=5,shuffle=True,random_state=RANDOM_SEED)\n",
    "\n",
    "model= RandomForestClassifier(random_state=13122001,n_estimators=200,max_depth=100)\n",
    "grid = GridSearchCV(model\n",
    "                    ,cv=kf\n",
    "                    ,param_grid=param_grid\n",
    "                    ,refit=True\n",
    "                    ,verbose=3\n",
    "                    ,scoring = 'accuracy')\n",
    "grid.fit(X_train,np.ravel(y_train))\n",
    "\n",
    "'''"
   ]
  },
  {
   "cell_type": "code",
   "execution_count": null,
   "metadata": {},
   "outputs": [],
   "source": [
    "'''\n",
    "predictions =grid.best_estimator_.predict(X_test)\n",
    "print(classification_report(y_test,prediction))\n",
    "print(confusion_matrix(y_test,predictions))\n",
    "print('Accuracy',metrics.accuracy_score(y_test,predictions))\n",
    "print('F1_score',f1_score(y_test,predictions, average='macro'))\n",
    "print('Recall',recall_score(y_test,predictions))\n",
    "'''"
   ]
  },
  {
   "cell_type": "code",
   "execution_count": null,
   "metadata": {},
   "outputs": [],
   "source": [
    "#plot_confusion_matrix(grid.best_estimator_,X_test,y_test)"
   ]
  },
  {
   "cell_type": "code",
   "execution_count": null,
   "metadata": {},
   "outputs": [],
   "source": [
    "#confusion_matrix(y_test,prediction)"
   ]
  },
  {
   "cell_type": "code",
   "execution_count": null,
   "metadata": {},
   "outputs": [],
   "source": [
    "#best_model = grid.best_estimator_\n",
    "#X = df.drop(['HeartDisease'],axis=1)\n",
    "#y = df['HeartDisease'].to_frame()\n",
    "#print(cross_val_score(best_model,X,np.ravel(y),cv=3))\n",
    "#from sklearn.tree import export_graphviz\n",
    "#export_graphviz(\n",
    "#    tree_clf,\n",
    "#    out_file=\"tree.dot\",\n",
    "#    feature_names=df.feature_names,\n",
    "#    class_names=dataset.target_names,\n",
    "#    rounded=True,\n",
    "#    filled=True\n",
    "#)\n",
    "#import os\n",
    "#os.system(\"dot -Tpng tree.dot -o tree.png\")"
   ]
  },
  {
   "cell_type": "code",
   "execution_count": null,
   "metadata": {},
   "outputs": [],
   "source": [
    "params = {\n",
    "    \"max_depth\": randint(2, 50), # default 3\n",
    "    \"n_estimators\": randint(100, 1000), # default 100\n",
    "    \"min_samples_split\":randint(1,10),\n",
    "    \"min_samples_leaf\":randint(1,10)\n",
    "}\n",
    "kf = KFold(n_splits=5,shuffle=True,random_state=RANDOM_SEED)\n",
    "\n",
    "model= RandomForestClassifier(random_state=13122001,n_estimators=200,max_depth=100)\n",
    "\n",
    "search = RandomizedSearchCV(model, param_distributions=params, random_state=42, cv=3, verbose=2, n_jobs=1, return_train_score=True)\n",
    "\n",
    "search.fit(X_train,np.ravel(y_train))\n",
    "\n"
   ]
  },
  {
   "cell_type": "code",
   "execution_count": null,
   "metadata": {},
   "outputs": [],
   "source": [
    "search.best_estimator_"
   ]
  },
  {
   "cell_type": "code",
   "execution_count": null,
   "metadata": {},
   "outputs": [],
   "source": [
    "predictions =search.best_estimator_.predict(X_test)\n",
    "print(classification_report(y_test,predictions))\n",
    "print('Accuracy',metrics.accuracy_score(y_test,predictions))\n",
    "print('F1_score',f1_score(y_test,predictions, average='macro'))\n",
    "print('Recall',recall_score(y_test,predictions))\n",
    "print(plot_confusion_matrix(search.best_estimator_,X_test,y_test))"
   ]
  }
 ],
 "metadata": {
  "kernelspec": {
   "display_name": "Python 3.7.0 ('env3.7')",
   "language": "python",
   "name": "python3"
  },
  "language_info": {
   "codemirror_mode": {
    "name": "ipython",
    "version": 3
   },
   "file_extension": ".py",
   "mimetype": "text/x-python",
   "name": "python",
   "nbconvert_exporter": "python",
   "pygments_lexer": "ipython3",
   "version": "3.7.0"
  },
  "orig_nbformat": 4,
  "vscode": {
   "interpreter": {
    "hash": "7d01ebad83f1e573303b379f432ff0608821921c78460387fd729ca46a3d8255"
   }
  }
 },
 "nbformat": 4,
 "nbformat_minor": 2
}
