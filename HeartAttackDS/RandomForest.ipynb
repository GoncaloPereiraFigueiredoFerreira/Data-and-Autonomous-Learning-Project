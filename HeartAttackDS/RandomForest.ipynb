{
 "cells": [
  {
   "cell_type": "code",
   "execution_count": 1,
   "metadata": {},
   "outputs": [],
   "source": [
    "import numpy as np # linear algebra\n",
    "import pandas as pd # data processing, CSV file I/O (e.g. pd.read_csv)\n",
    "import sklearn as skl\n",
    "import matplotlib.pyplot as plt\n",
    "import seaborn as sns\n",
    "\n",
    "from sklearn import preprocessing\n",
    "from sklearn.model_selection import train_test_split\n",
    "from sklearn.tree import DecisionTreeClassifier\n",
    "from sklearn.metrics import confusion_matrix,accuracy_score,precision_score,recall_score\n",
    "from sklearn.utils import resample\n",
    "from sklearn.ensemble import RandomForestClassifier\n",
    "from sklearn.metrics import classification_report, plot_confusion_matrix\n",
    "from sklearn.model_selection import GridSearchCV, KFold,cross_val_score\n",
    "from sklearn import metrics\n",
    "\n",
    "RANDOM_SEED = 13122001"
   ]
  },
  {
   "cell_type": "code",
   "execution_count": 2,
   "metadata": {},
   "outputs": [
    {
     "data": {
      "text/html": [
       "<div>\n",
       "<style scoped>\n",
       "    .dataframe tbody tr th:only-of-type {\n",
       "        vertical-align: middle;\n",
       "    }\n",
       "\n",
       "    .dataframe tbody tr th {\n",
       "        vertical-align: top;\n",
       "    }\n",
       "\n",
       "    .dataframe thead th {\n",
       "        text-align: right;\n",
       "    }\n",
       "</style>\n",
       "<table border=\"1\" class=\"dataframe\">\n",
       "  <thead>\n",
       "    <tr style=\"text-align: right;\">\n",
       "      <th></th>\n",
       "      <th>Unnamed: 0</th>\n",
       "      <th>HeartDisease</th>\n",
       "      <th>BMI</th>\n",
       "      <th>Smoking</th>\n",
       "      <th>AlcoholDrinking</th>\n",
       "      <th>Stroke</th>\n",
       "      <th>PhysicalHealth</th>\n",
       "      <th>DiffWalking</th>\n",
       "      <th>AgeCategory</th>\n",
       "      <th>PhysicalActivity</th>\n",
       "      <th>GenHealth</th>\n",
       "      <th>KidneyDisease</th>\n",
       "      <th>NotDiabetic</th>\n",
       "      <th>Diabetic during pregnancy</th>\n",
       "      <th>Borderline diabetes</th>\n",
       "      <th>IsDiabetic</th>\n",
       "    </tr>\n",
       "  </thead>\n",
       "  <tbody>\n",
       "    <tr>\n",
       "      <th>0</th>\n",
       "      <td>0</td>\n",
       "      <td>0.0</td>\n",
       "      <td>0.00</td>\n",
       "      <td>1.0</td>\n",
       "      <td>0.0</td>\n",
       "      <td>0.0</td>\n",
       "      <td>0.0</td>\n",
       "      <td>0.0</td>\n",
       "      <td>0.583333</td>\n",
       "      <td>1.0</td>\n",
       "      <td>0.75</td>\n",
       "      <td>0.0</td>\n",
       "      <td>0.0</td>\n",
       "      <td>0.0</td>\n",
       "      <td>1.0</td>\n",
       "      <td>0.0</td>\n",
       "    </tr>\n",
       "    <tr>\n",
       "      <th>1</th>\n",
       "      <td>1</td>\n",
       "      <td>0.0</td>\n",
       "      <td>0.25</td>\n",
       "      <td>0.0</td>\n",
       "      <td>0.0</td>\n",
       "      <td>1.0</td>\n",
       "      <td>0.0</td>\n",
       "      <td>0.0</td>\n",
       "      <td>1.000000</td>\n",
       "      <td>1.0</td>\n",
       "      <td>0.75</td>\n",
       "      <td>0.0</td>\n",
       "      <td>1.0</td>\n",
       "      <td>0.0</td>\n",
       "      <td>0.0</td>\n",
       "      <td>0.0</td>\n",
       "    </tr>\n",
       "    <tr>\n",
       "      <th>2</th>\n",
       "      <td>2</td>\n",
       "      <td>0.0</td>\n",
       "      <td>0.50</td>\n",
       "      <td>1.0</td>\n",
       "      <td>0.0</td>\n",
       "      <td>0.0</td>\n",
       "      <td>0.6</td>\n",
       "      <td>0.0</td>\n",
       "      <td>0.750000</td>\n",
       "      <td>1.0</td>\n",
       "      <td>0.25</td>\n",
       "      <td>0.0</td>\n",
       "      <td>0.0</td>\n",
       "      <td>0.0</td>\n",
       "      <td>1.0</td>\n",
       "      <td>0.0</td>\n",
       "    </tr>\n",
       "    <tr>\n",
       "      <th>3</th>\n",
       "      <td>3</td>\n",
       "      <td>0.0</td>\n",
       "      <td>0.25</td>\n",
       "      <td>0.0</td>\n",
       "      <td>0.0</td>\n",
       "      <td>0.0</td>\n",
       "      <td>0.0</td>\n",
       "      <td>0.0</td>\n",
       "      <td>0.916667</td>\n",
       "      <td>0.0</td>\n",
       "      <td>0.50</td>\n",
       "      <td>0.0</td>\n",
       "      <td>1.0</td>\n",
       "      <td>0.0</td>\n",
       "      <td>0.0</td>\n",
       "      <td>0.0</td>\n",
       "    </tr>\n",
       "    <tr>\n",
       "      <th>4</th>\n",
       "      <td>4</td>\n",
       "      <td>0.0</td>\n",
       "      <td>0.25</td>\n",
       "      <td>0.0</td>\n",
       "      <td>0.0</td>\n",
       "      <td>0.0</td>\n",
       "      <td>1.0</td>\n",
       "      <td>1.0</td>\n",
       "      <td>0.333333</td>\n",
       "      <td>1.0</td>\n",
       "      <td>0.75</td>\n",
       "      <td>0.0</td>\n",
       "      <td>1.0</td>\n",
       "      <td>0.0</td>\n",
       "      <td>0.0</td>\n",
       "      <td>0.0</td>\n",
       "    </tr>\n",
       "    <tr>\n",
       "      <th>...</th>\n",
       "      <td>...</td>\n",
       "      <td>...</td>\n",
       "      <td>...</td>\n",
       "      <td>...</td>\n",
       "      <td>...</td>\n",
       "      <td>...</td>\n",
       "      <td>...</td>\n",
       "      <td>...</td>\n",
       "      <td>...</td>\n",
       "      <td>...</td>\n",
       "      <td>...</td>\n",
       "      <td>...</td>\n",
       "      <td>...</td>\n",
       "      <td>...</td>\n",
       "      <td>...</td>\n",
       "      <td>...</td>\n",
       "    </tr>\n",
       "    <tr>\n",
       "      <th>319790</th>\n",
       "      <td>319790</td>\n",
       "      <td>1.0</td>\n",
       "      <td>0.50</td>\n",
       "      <td>1.0</td>\n",
       "      <td>0.0</td>\n",
       "      <td>0.0</td>\n",
       "      <td>0.2</td>\n",
       "      <td>1.0</td>\n",
       "      <td>0.666667</td>\n",
       "      <td>0.0</td>\n",
       "      <td>0.25</td>\n",
       "      <td>0.0</td>\n",
       "      <td>0.0</td>\n",
       "      <td>0.0</td>\n",
       "      <td>1.0</td>\n",
       "      <td>0.0</td>\n",
       "    </tr>\n",
       "    <tr>\n",
       "      <th>319791</th>\n",
       "      <td>319791</td>\n",
       "      <td>0.0</td>\n",
       "      <td>0.50</td>\n",
       "      <td>1.0</td>\n",
       "      <td>0.0</td>\n",
       "      <td>0.0</td>\n",
       "      <td>0.0</td>\n",
       "      <td>0.0</td>\n",
       "      <td>0.250000</td>\n",
       "      <td>1.0</td>\n",
       "      <td>0.75</td>\n",
       "      <td>0.0</td>\n",
       "      <td>1.0</td>\n",
       "      <td>0.0</td>\n",
       "      <td>0.0</td>\n",
       "      <td>0.0</td>\n",
       "    </tr>\n",
       "    <tr>\n",
       "      <th>319792</th>\n",
       "      <td>319792</td>\n",
       "      <td>0.0</td>\n",
       "      <td>0.25</td>\n",
       "      <td>0.0</td>\n",
       "      <td>0.0</td>\n",
       "      <td>0.0</td>\n",
       "      <td>0.0</td>\n",
       "      <td>0.0</td>\n",
       "      <td>0.416667</td>\n",
       "      <td>1.0</td>\n",
       "      <td>0.50</td>\n",
       "      <td>0.0</td>\n",
       "      <td>1.0</td>\n",
       "      <td>0.0</td>\n",
       "      <td>0.0</td>\n",
       "      <td>0.0</td>\n",
       "    </tr>\n",
       "    <tr>\n",
       "      <th>319793</th>\n",
       "      <td>319793</td>\n",
       "      <td>0.0</td>\n",
       "      <td>0.75</td>\n",
       "      <td>0.0</td>\n",
       "      <td>0.0</td>\n",
       "      <td>0.0</td>\n",
       "      <td>0.0</td>\n",
       "      <td>0.0</td>\n",
       "      <td>0.083333</td>\n",
       "      <td>0.0</td>\n",
       "      <td>0.50</td>\n",
       "      <td>0.0</td>\n",
       "      <td>1.0</td>\n",
       "      <td>0.0</td>\n",
       "      <td>0.0</td>\n",
       "      <td>0.0</td>\n",
       "    </tr>\n",
       "    <tr>\n",
       "      <th>319794</th>\n",
       "      <td>319794</td>\n",
       "      <td>0.0</td>\n",
       "      <td>1.00</td>\n",
       "      <td>0.0</td>\n",
       "      <td>0.0</td>\n",
       "      <td>0.0</td>\n",
       "      <td>0.0</td>\n",
       "      <td>0.0</td>\n",
       "      <td>1.000000</td>\n",
       "      <td>1.0</td>\n",
       "      <td>0.50</td>\n",
       "      <td>0.0</td>\n",
       "      <td>1.0</td>\n",
       "      <td>0.0</td>\n",
       "      <td>0.0</td>\n",
       "      <td>0.0</td>\n",
       "    </tr>\n",
       "  </tbody>\n",
       "</table>\n",
       "<p>319795 rows × 16 columns</p>\n",
       "</div>"
      ],
      "text/plain": [
       "        Unnamed: 0  HeartDisease   BMI  Smoking  AlcoholDrinking  Stroke  \\\n",
       "0                0           0.0  0.00      1.0              0.0     0.0   \n",
       "1                1           0.0  0.25      0.0              0.0     1.0   \n",
       "2                2           0.0  0.50      1.0              0.0     0.0   \n",
       "3                3           0.0  0.25      0.0              0.0     0.0   \n",
       "4                4           0.0  0.25      0.0              0.0     0.0   \n",
       "...            ...           ...   ...      ...              ...     ...   \n",
       "319790      319790           1.0  0.50      1.0              0.0     0.0   \n",
       "319791      319791           0.0  0.50      1.0              0.0     0.0   \n",
       "319792      319792           0.0  0.25      0.0              0.0     0.0   \n",
       "319793      319793           0.0  0.75      0.0              0.0     0.0   \n",
       "319794      319794           0.0  1.00      0.0              0.0     0.0   \n",
       "\n",
       "        PhysicalHealth  DiffWalking  AgeCategory  PhysicalActivity  GenHealth  \\\n",
       "0                  0.0          0.0     0.583333               1.0       0.75   \n",
       "1                  0.0          0.0     1.000000               1.0       0.75   \n",
       "2                  0.6          0.0     0.750000               1.0       0.25   \n",
       "3                  0.0          0.0     0.916667               0.0       0.50   \n",
       "4                  1.0          1.0     0.333333               1.0       0.75   \n",
       "...                ...          ...          ...               ...        ...   \n",
       "319790             0.2          1.0     0.666667               0.0       0.25   \n",
       "319791             0.0          0.0     0.250000               1.0       0.75   \n",
       "319792             0.0          0.0     0.416667               1.0       0.50   \n",
       "319793             0.0          0.0     0.083333               0.0       0.50   \n",
       "319794             0.0          0.0     1.000000               1.0       0.50   \n",
       "\n",
       "        KidneyDisease  NotDiabetic  Diabetic during pregnancy  \\\n",
       "0                 0.0          0.0                        0.0   \n",
       "1                 0.0          1.0                        0.0   \n",
       "2                 0.0          0.0                        0.0   \n",
       "3                 0.0          1.0                        0.0   \n",
       "4                 0.0          1.0                        0.0   \n",
       "...               ...          ...                        ...   \n",
       "319790            0.0          0.0                        0.0   \n",
       "319791            0.0          1.0                        0.0   \n",
       "319792            0.0          1.0                        0.0   \n",
       "319793            0.0          1.0                        0.0   \n",
       "319794            0.0          1.0                        0.0   \n",
       "\n",
       "        Borderline diabetes  IsDiabetic  \n",
       "0                       1.0         0.0  \n",
       "1                       0.0         0.0  \n",
       "2                       1.0         0.0  \n",
       "3                       0.0         0.0  \n",
       "4                       0.0         0.0  \n",
       "...                     ...         ...  \n",
       "319790                  1.0         0.0  \n",
       "319791                  0.0         0.0  \n",
       "319792                  0.0         0.0  \n",
       "319793                  0.0         0.0  \n",
       "319794                  0.0         0.0  \n",
       "\n",
       "[319795 rows x 16 columns]"
      ]
     },
     "execution_count": 2,
     "metadata": {},
     "output_type": "execute_result"
    }
   ],
   "source": [
    "X_train= pd.read_csv('X_train.csv')\n",
    "X_test=pd.read_csv('X_test.csv')\n",
    "y_test=pd.read_csv('y_test.csv')\n",
    "y_train=pd.read_csv('y_train.csv')\n",
    "df=pd.read_csv('df.csv')\n",
    "df\n"
   ]
  },
  {
   "cell_type": "markdown",
   "metadata": {},
   "source": [
    "# DecisionTreeClassifier"
   ]
  },
  {
   "cell_type": "code",
   "execution_count": 4,
   "metadata": {},
   "outputs": [],
   "source": [
    "#Create an instance of a Decision Tree classifier \n",
    "clf= DecisionTreeClassifier(random_state=13)\n",
    "#Training,i.e,fitting the model(using the training data)\n",
    "clf.fit(X_train,y_train)\n",
    "predictions= clf.predict(X_test)"
   ]
  },
  {
   "cell_type": "code",
   "execution_count": 5,
   "metadata": {},
   "outputs": [
    {
     "name": "stdout",
     "output_type": "stream",
     "text": [
      "[[83274  4549]\n",
      " [ 6210  1906]]\n",
      "0.887855825055504\n"
     ]
    }
   ],
   "source": [
    "print(confusion_matrix(y_test,predictions))\n",
    "print(accuracy_score(y_test,predictions))"
   ]
  },
  {
   "cell_type": "markdown",
   "metadata": {},
   "source": [
    "# RandomForest"
   ]
  },
  {
   "cell_type": "code",
   "execution_count": 14,
   "metadata": {},
   "outputs": [
    {
     "name": "stdout",
     "output_type": "stream",
     "text": [
      "Fitting 5 folds for each of 2 candidates, totalling 10 fits\n",
      "[CV 1/5] END ...max_depth=50, n_estimators=1000;, score=0.849 total time= 2.4min\n",
      "[CV 2/5] END ...max_depth=50, n_estimators=1000;, score=0.850 total time= 2.5min\n",
      "[CV 3/5] END ...max_depth=50, n_estimators=1000;, score=0.853 total time= 2.6min\n",
      "[CV 4/5] END ...max_depth=50, n_estimators=1000;, score=0.848 total time= 2.8min\n",
      "[CV 5/5] END ...max_depth=50, n_estimators=1000;, score=0.850 total time= 2.8min\n",
      "[CV 1/5] END ..max_depth=100, n_estimators=1000;, score=0.849 total time= 3.2min\n",
      "[CV 2/5] END ..max_depth=100, n_estimators=1000;, score=0.850 total time= 2.8min\n",
      "[CV 3/5] END ..max_depth=100, n_estimators=1000;, score=0.853 total time= 4.7min\n",
      "[CV 4/5] END ..max_depth=100, n_estimators=1000;, score=0.848 total time= 4.6min\n",
      "[CV 5/5] END ..max_depth=100, n_estimators=1000;, score=0.850 total time= 2.1min\n",
      "              precision    recall  f1-score   support\n",
      "\n",
      "         0.0       0.93      0.95      0.94     87823\n",
      "         1.0       0.30      0.24      0.27      8116\n",
      "\n",
      "    accuracy                           0.89     95939\n",
      "   macro avg       0.62      0.59      0.60     95939\n",
      "weighted avg       0.88      0.89      0.88     95939\n",
      "\n",
      "Accuracy 0.8891691595701435\n"
     ]
    }
   ],
   "source": [
    "\n",
    "param_grid = {'n_estimators':[1000],'max_depth':[50,100]}\n",
    "kf = KFold(n_splits=5,shuffle=True,random_state=RANDOM_SEED)\n",
    "\n",
    "model= RandomForestClassifier(random_state=13122001,n_estimators=200,max_depth=100)\n",
    "grid = GridSearchCV(model\n",
    "                    ,cv=kf\n",
    "                    ,param_grid=param_grid\n",
    "                    ,refit=True\n",
    "                    ,verbose=3\n",
    "                    ,scoring = 'accuracy')\n",
    "grid.fit(X_train,np.ravel(y_train))\n",
    "\n",
    "prediction =grid.best_estimator_.predict(X_test)\n",
    "print(classification_report(y_test,prediction))\n",
    "print('Accuracy',metrics.accuracy_score(y_test,prediction))"
   ]
  },
  {
   "cell_type": "code",
   "execution_count": 11,
   "metadata": {},
   "outputs": [
    {
     "data": {
      "text/plain": [
       "array([[83336,  4487],\n",
       "       [ 6189,  1927]], dtype=int64)"
      ]
     },
     "execution_count": 11,
     "metadata": {},
     "output_type": "execute_result"
    }
   ],
   "source": [
    "confusion_matrix(y_test,prediction)"
   ]
  },
  {
   "cell_type": "code",
   "execution_count": 15,
   "metadata": {},
   "outputs": [
    {
     "data": {
      "text/plain": [
       "0.8891691595701435"
      ]
     },
     "execution_count": 15,
     "metadata": {},
     "output_type": "execute_result"
    }
   ],
   "source": [
    "accuracy_score(y_test,prediction)"
   ]
  },
  {
   "cell_type": "code",
   "execution_count": 16,
   "metadata": {},
   "outputs": [
    {
     "name": "stderr",
     "output_type": "stream",
     "text": [
      "c:\\Users\\Utilizador\\anaconda3\\envs\\env3.7\\lib\\site-packages\\sklearn\\utils\\deprecation.py:87: FutureWarning: Function plot_confusion_matrix is deprecated; Function `plot_confusion_matrix` is deprecated in 1.0 and will be removed in 1.2. Use one of the class methods: ConfusionMatrixDisplay.from_predictions or ConfusionMatrixDisplay.from_estimator.\n",
      "  warnings.warn(msg, category=FutureWarning)\n"
     ]
    },
    {
     "data": {
      "text/plain": [
       "<sklearn.metrics._plot.confusion_matrix.ConfusionMatrixDisplay at 0x1f3000a2710>"
      ]
     },
     "execution_count": 16,
     "metadata": {},
     "output_type": "execute_result"
    },
    {
     "data": {
      "image/png": "[encoded data removed]",
      "text/plain": [
       "<Figure size 640x480 with 2 Axes>"
      ]
     },
     "metadata": {},
     "output_type": "display_data"
    }
   ],
   "source": [
    "plot_confusion_matrix(grid.best_estimator_,X_test,y_test)"
   ]
  },
  {
   "cell_type": "code",
   "execution_count": null,
   "metadata": {},
   "outputs": [],
   "source": []
  }
 ],
 "metadata": {
  "kernelspec": {
   "display_name": "Python 3.7.0 ('env3.7')",
   "language": "python",
   "name": "python3"
  },
  "language_info": {
   "codemirror_mode": {
    "name": "ipython",
    "version": 3
   },
   "file_extension": ".py",
   "mimetype": "text/x-python",
   "name": "python",
   "nbconvert_exporter": "python",
   "pygments_lexer": "ipython3",
   "version": "3.7.0"
  },
  "orig_nbformat": 4,
  "vscode": {
   "interpreter": {
    "hash": "7d01ebad83f1e573303b379f432ff0608821921c78460387fd729ca46a3d8255"
   }
  }
 },
 "nbformat": 4,
 "nbformat_minor": 2
}
