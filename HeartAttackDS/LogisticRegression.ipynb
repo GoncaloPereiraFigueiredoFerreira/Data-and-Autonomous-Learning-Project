{
 "cells": [
  {
   "cell_type": "code",
   "execution_count": null,
   "metadata": {},
   "outputs": [],
   "source": [
    "import numpy as np # linear algebra\n",
    "import pandas as pd # data processing, CSV file I/O (e.g. pd.read_csv)\n",
    "import sklearn as skl\n",
    "import matplotlib.pyplot as plt\n",
    "import seaborn as sns\n",
    "\n",
    "from sklearn import preprocessing\n",
    "from sklearn.model_selection import train_test_split\n",
    "\n",
    "from sklearn.metrics import confusion_matrix,accuracy_score,precision_score,recall_score\n",
    "from sklearn.utils import resample\n",
    "from sklearn.ensemble import RandomForestClassifier\n",
    "from sklearn.metrics import classification_report, plot_confusion_matrix\n",
    "from sklearn.linear_model import LogisticRegression\n",
    "import time"
   ]
  },
  {
   "cell_type": "code",
   "execution_count": null,
   "metadata": {},
   "outputs": [],
   "source": [
    "X_train= pd.read_csv('X_train.csv')\n",
    "X_test=pd.read_csv('X_test.csv')\n",
    "y_test=pd.read_csv('y_test.csv')\n",
    "y_train=pd.read_csv('y_train.csv')\n"
   ]
  },
  {
   "cell_type": "code",
   "execution_count": null,
   "metadata": {},
   "outputs": [],
   "source": [
    "X_train=X_train.drop(['Unnamed: 0'],axis=1)\n",
    "X_test=X_test.drop(['Unnamed: 0'],axis=1)\n",
    "y_train=y_train.drop(['Unnamed: 0'],axis=1)\n",
    "y_test=y_test.drop(['Unnamed: 0'],axis=1)"
   ]
  },
  {
   "cell_type": "code",
   "execution_count": null,
   "metadata": {},
   "outputs": [],
   "source": [
    "starttime= time.process_time()\n",
    "\n",
    "logmodel1 = LogisticRegression(random_state=13122001,solver='newton-cg',max_iter=1000)\n",
    "print(logmodel1)\n",
    "logmodel1.fit(X_train,y_train)\n",
    "\n",
    "endtime= time.process_time()\n",
    "print(f\"Time spent: {endtime-starttime} seconds\")\n",
    "predictions1= logmodel1.predict(X_test)"
   ]
  },
  {
   "cell_type": "code",
   "execution_count": null,
   "metadata": {},
   "outputs": [],
   "source": [
    "starttime= time.process_time()\n",
    "\n",
    "logmodel2 = LogisticRegression(random_state=13122001,solver='lbfgs',max_iter=1000)\n",
    "print(logmodel2)\n",
    "logmodel2.fit(X_train,y_train)\n",
    "\n",
    "endtime= time.process_time()\n",
    "print(f\"Time spent: {endtime-starttime} seconds\")\n",
    "predictions2= logmodel2.predict(X_test)"
   ]
  },
  {
   "cell_type": "code",
   "execution_count": null,
   "metadata": {},
   "outputs": [],
   "source": [
    "starttime= time.process_time()\n",
    "\n",
    "logmodel3 = LogisticRegression(random_state=13122001,solver='liblinear',max_iter=1000)\n",
    "print(logmodel3)\n",
    "logmodel3.fit(X_train,y_train)\n",
    "\n",
    "endtime= time.process_time()\n",
    "print(f\"Time spent: {endtime-starttime} seconds\")\n",
    "predictions3= logmodel3.predict(X_test)"
   ]
  },
  {
   "cell_type": "code",
   "execution_count": null,
   "metadata": {},
   "outputs": [],
   "source": [
    "print(\"With 'newton-cg': \\n\",classification_report(y_test,predictions1))\n",
    "print(\"With 'lbfgs': \\n\",classification_report(y_test,predictions2))\n",
    "print(\"With 'liblinear': \\n\",classification_report(y_test,predictions3))"
   ]
  },
  {
   "cell_type": "code",
   "execution_count": null,
   "metadata": {},
   "outputs": [],
   "source": [
    "plot_confusion_matrix(logmodel1,X_test,y_test)\n",
    "plot_confusion_matrix(logmodel2,X_test,y_test)\n",
    "plot_confusion_matrix(logmodel3,X_test,y_test)"
   ]
  }
 ],
 "metadata": {
  "kernelspec": {
   "display_name": "Python 3.9.2 64-bit",
   "language": "python",
   "name": "python3"
  },
  "language_info": {
   "codemirror_mode": {
    "name": "ipython",
    "version": 3
   },
   "file_extension": ".py",
   "mimetype": "text/x-python",
   "name": "python",
   "nbconvert_exporter": "python",
   "pygments_lexer": "ipython3",
   "version": "3.9.2"
  },
  "orig_nbformat": 4,
  "vscode": {
   "interpreter": {
    "hash": "a3fc19f48f70176269800988a62195d1983df5d1ed69338769d390724141983c"
   }
  }
 },
 "nbformat": 4,
 "nbformat_minor": 2
}
