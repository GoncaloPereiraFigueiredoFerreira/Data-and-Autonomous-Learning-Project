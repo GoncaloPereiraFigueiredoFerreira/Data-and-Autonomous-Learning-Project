{
 "cells": [
  {
   "cell_type": "code",
   "execution_count": 187,
   "metadata": {},
   "outputs": [],
   "source": [
    "import pandas as pd\n",
    "import sklearn as sk\n",
    "import matplotlib.pyplot as plt\n",
    "import seaborn as sns\n",
    "from sklearn.ensemble import RandomForestClassifier\n",
    "from sklearn.tree import DecisionTreeClassifier\n",
    "from sklearn.model_selection import cross_val_score,train_test_split\n",
    "from sklearn import preprocessing\n",
    "from sklearn.metrics import confusion_matrix, mean_absolute_error,mean_squared_error,classification_report\n",
    "from sklearn.linear_model import LinearRegression, LogisticRegression;\n",
    "import numpy as np"
   ]
  },
  {
   "cell_type": "code",
   "execution_count": 188,
   "metadata": {},
   "outputs": [],
   "source": [
    "train = pd.read_csv(\"/home/ganso133/uni/DAA/TP-DAA/training_data.csv\")\n",
    "test = pd.read_csv(\"/home/ganso133/uni/DAA/TP-DAA/test_data.csv\")"
   ]
  },
  {
   "cell_type": "code",
   "execution_count": 189,
   "metadata": {},
   "outputs": [
    {
     "name": "stdout",
     "output_type": "stream",
     "text": [
      "<class 'pandas.core.frame.DataFrame'>\n",
      "RangeIndex: 5000 entries, 0 to 4999\n",
      "Data columns (total 13 columns):\n",
      " #   Column              Non-Null Count  Dtype  \n",
      "---  ------              --------------  -----  \n",
      " 0   city_name           5000 non-null   object \n",
      " 1   magnitude_of_delay  5000 non-null   object \n",
      " 2   delay_in_seconds    5000 non-null   int64  \n",
      " 3   affected_roads      4915 non-null   object \n",
      " 4   record_date         5000 non-null   object \n",
      " 5   luminosity          5000 non-null   object \n",
      " 6   avg_temperature     5000 non-null   float64\n",
      " 7   avg_atm_pressure    5000 non-null   float64\n",
      " 8   avg_humidity        5000 non-null   float64\n",
      " 9   avg_wind_speed      5000 non-null   float64\n",
      " 10  avg_precipitation   5000 non-null   float64\n",
      " 11  avg_rain            5000 non-null   object \n",
      " 12  incidents           5000 non-null   object \n",
      "dtypes: float64(5), int64(1), object(7)\n",
      "memory usage: 507.9+ KB\n"
     ]
    }
   ],
   "source": [
    "train.info()"
   ]
  },
  {
   "cell_type": "code",
   "execution_count": 190,
   "metadata": {},
   "outputs": [
    {
     "name": "stdout",
     "output_type": "stream",
     "text": [
      "Guimaraes    5000\n",
      "Name: city_name, dtype: int64\n"
     ]
    },
    {
     "data": {
      "text/html": [
       "<div>\n",
       "<style scoped>\n",
       "    .dataframe tbody tr th:only-of-type {\n",
       "        vertical-align: middle;\n",
       "    }\n",
       "\n",
       "    .dataframe tbody tr th {\n",
       "        vertical-align: top;\n",
       "    }\n",
       "\n",
       "    .dataframe thead th {\n",
       "        text-align: right;\n",
       "    }\n",
       "</style>\n",
       "<table border=\"1\" class=\"dataframe\">\n",
       "  <thead>\n",
       "    <tr style=\"text-align: right;\">\n",
       "      <th></th>\n",
       "      <th>city_name</th>\n",
       "      <th>magnitude_of_delay</th>\n",
       "      <th>delay_in_seconds</th>\n",
       "      <th>affected_roads</th>\n",
       "      <th>record_date</th>\n",
       "      <th>luminosity</th>\n",
       "      <th>avg_temperature</th>\n",
       "      <th>avg_atm_pressure</th>\n",
       "      <th>avg_humidity</th>\n",
       "      <th>avg_wind_speed</th>\n",
       "      <th>avg_precipitation</th>\n",
       "      <th>avg_rain</th>\n",
       "      <th>incidents</th>\n",
       "    </tr>\n",
       "  </thead>\n",
       "  <tbody>\n",
       "    <tr>\n",
       "      <th>0</th>\n",
       "      <td>Guimaraes</td>\n",
       "      <td>UNDEFINED</td>\n",
       "      <td>0</td>\n",
       "      <td>,</td>\n",
       "      <td>2021-03-15 23:00</td>\n",
       "      <td>DARK</td>\n",
       "      <td>12.0</td>\n",
       "      <td>1013.0</td>\n",
       "      <td>70.0</td>\n",
       "      <td>1.0</td>\n",
       "      <td>0.0</td>\n",
       "      <td>Sem Chuva</td>\n",
       "      <td>None</td>\n",
       "    </tr>\n",
       "    <tr>\n",
       "      <th>1</th>\n",
       "      <td>Guimaraes</td>\n",
       "      <td>UNDEFINED</td>\n",
       "      <td>385</td>\n",
       "      <td>N101,</td>\n",
       "      <td>2021-12-25 18:00</td>\n",
       "      <td>DARK</td>\n",
       "      <td>12.0</td>\n",
       "      <td>1007.0</td>\n",
       "      <td>91.0</td>\n",
       "      <td>1.0</td>\n",
       "      <td>0.0</td>\n",
       "      <td>Sem Chuva</td>\n",
       "      <td>None</td>\n",
       "    </tr>\n",
       "    <tr>\n",
       "      <th>2</th>\n",
       "      <td>Guimaraes</td>\n",
       "      <td>UNDEFINED</td>\n",
       "      <td>69</td>\n",
       "      <td>,</td>\n",
       "      <td>2021-03-12 15:00</td>\n",
       "      <td>LIGHT</td>\n",
       "      <td>14.0</td>\n",
       "      <td>1025.0</td>\n",
       "      <td>64.0</td>\n",
       "      <td>0.0</td>\n",
       "      <td>0.0</td>\n",
       "      <td>Sem Chuva</td>\n",
       "      <td>Low</td>\n",
       "    </tr>\n",
       "    <tr>\n",
       "      <th>3</th>\n",
       "      <td>Guimaraes</td>\n",
       "      <td>MAJOR</td>\n",
       "      <td>2297</td>\n",
       "      <td>N101,R206,N105,N101,N101,N101,N101,N101,N101,N...</td>\n",
       "      <td>2021-09-29 09:00</td>\n",
       "      <td>LIGHT</td>\n",
       "      <td>15.0</td>\n",
       "      <td>1028.0</td>\n",
       "      <td>75.0</td>\n",
       "      <td>1.0</td>\n",
       "      <td>0.0</td>\n",
       "      <td>Sem Chuva</td>\n",
       "      <td>Very_High</td>\n",
       "    </tr>\n",
       "    <tr>\n",
       "      <th>4</th>\n",
       "      <td>Guimaraes</td>\n",
       "      <td>UNDEFINED</td>\n",
       "      <td>0</td>\n",
       "      <td>N101,N101,N101,N101,N101,</td>\n",
       "      <td>2021-06-13 11:00</td>\n",
       "      <td>LIGHT</td>\n",
       "      <td>27.0</td>\n",
       "      <td>1020.0</td>\n",
       "      <td>52.0</td>\n",
       "      <td>1.0</td>\n",
       "      <td>0.0</td>\n",
       "      <td>Sem Chuva</td>\n",
       "      <td>High</td>\n",
       "    </tr>\n",
       "  </tbody>\n",
       "</table>\n",
       "</div>"
      ],
      "text/plain": [
       "   city_name magnitude_of_delay  delay_in_seconds  \\\n",
       "0  Guimaraes          UNDEFINED                 0   \n",
       "1  Guimaraes          UNDEFINED               385   \n",
       "2  Guimaraes          UNDEFINED                69   \n",
       "3  Guimaraes              MAJOR              2297   \n",
       "4  Guimaraes          UNDEFINED                 0   \n",
       "\n",
       "                                      affected_roads       record_date  \\\n",
       "0                                                  ,  2021-03-15 23:00   \n",
       "1                                              N101,  2021-12-25 18:00   \n",
       "2                                                  ,  2021-03-12 15:00   \n",
       "3  N101,R206,N105,N101,N101,N101,N101,N101,N101,N...  2021-09-29 09:00   \n",
       "4                          N101,N101,N101,N101,N101,  2021-06-13 11:00   \n",
       "\n",
       "  luminosity  avg_temperature  avg_atm_pressure  avg_humidity  avg_wind_speed  \\\n",
       "0       DARK             12.0            1013.0          70.0             1.0   \n",
       "1       DARK             12.0            1007.0          91.0             1.0   \n",
       "2      LIGHT             14.0            1025.0          64.0             0.0   \n",
       "3      LIGHT             15.0            1028.0          75.0             1.0   \n",
       "4      LIGHT             27.0            1020.0          52.0             1.0   \n",
       "\n",
       "   avg_precipitation   avg_rain  incidents  \n",
       "0                0.0  Sem Chuva       None  \n",
       "1                0.0  Sem Chuva       None  \n",
       "2                0.0  Sem Chuva        Low  \n",
       "3                0.0  Sem Chuva  Very_High  \n",
       "4                0.0  Sem Chuva       High  "
      ]
     },
     "execution_count": 190,
     "metadata": {},
     "output_type": "execute_result"
    }
   ],
   "source": [
    "print(train['city_name'].value_counts())\n",
    "#Useless values\n",
    "train.head()"
   ]
  },
  {
   "cell_type": "code",
   "execution_count": null,
   "metadata": {},
   "outputs": [],
   "source": []
  },
  {
   "cell_type": "code",
   "execution_count": 191,
   "metadata": {},
   "outputs": [
    {
     "name": "stdout",
     "output_type": "stream",
     "text": [
      "None         2028\n",
      "High         1073\n",
      "Low           718\n",
      "Very_High     603\n",
      "Medium        578\n",
      "Name: incidents, dtype: int64\n"
     ]
    }
   ],
   "source": [
    "print(train['incidents'].value_counts())"
   ]
  },
  {
   "cell_type": "code",
   "execution_count": 192,
   "metadata": {},
   "outputs": [],
   "source": [
    "# Atribute an order so its easier to understand\n",
    "replace_map = {'incidents':{'None':0, 'Low':1, 'Medium':2,'High':3,'Very_High':4}}\n",
    "\n",
    "\n",
    "train.replace(replace_map,inplace=True)\n",
    "#train.head()"
   ]
  },
  {
   "cell_type": "code",
   "execution_count": 193,
   "metadata": {},
   "outputs": [
    {
     "name": "stdout",
     "output_type": "stream",
     "text": [
      "UNDEFINED    4314\n",
      "MAJOR         678\n",
      "MODERATE        8\n",
      "Name: magnitude_of_delay, dtype: int64\n"
     ]
    }
   ],
   "source": [
    "# Here we clearly need to clarify that Major > moderate but undefined values need investigation\n",
    "print(train['magnitude_of_delay'].value_counts())\n",
    "\n"
   ]
  },
  {
   "cell_type": "code",
   "execution_count": 194,
   "metadata": {},
   "outputs": [
    {
     "name": "stdout",
     "output_type": "stream",
     "text": [
      "Sem Chuva         4756\n",
      "chuva fraca        214\n",
      "chuva moderada      27\n",
      "chuva forte          3\n",
      "Name: avg_rain, dtype: int64\n"
     ]
    }
   ],
   "source": [
    "print(train['avg_rain'].value_counts())"
   ]
  },
  {
   "cell_type": "code",
   "execution_count": 195,
   "metadata": {},
   "outputs": [
    {
     "name": "stdout",
     "output_type": "stream",
     "text": [
      "DARK         2489\n",
      "LIGHT        2325\n",
      "LOW_LIGHT     186\n",
      "Name: luminosity, dtype: int64\n"
     ]
    }
   ],
   "source": [
    "print(train['luminosity'].value_counts())"
   ]
  },
  {
   "cell_type": "code",
   "execution_count": 196,
   "metadata": {},
   "outputs": [
    {
     "data": {
      "text/html": [
       "<div>\n",
       "<style scoped>\n",
       "    .dataframe tbody tr th:only-of-type {\n",
       "        vertical-align: middle;\n",
       "    }\n",
       "\n",
       "    .dataframe tbody tr th {\n",
       "        vertical-align: top;\n",
       "    }\n",
       "\n",
       "    .dataframe thead th {\n",
       "        text-align: right;\n",
       "    }\n",
       "</style>\n",
       "<table border=\"1\" class=\"dataframe\">\n",
       "  <thead>\n",
       "    <tr style=\"text-align: right;\">\n",
       "      <th></th>\n",
       "      <th>city_name</th>\n",
       "      <th>magnitude_of_delay</th>\n",
       "      <th>delay_in_seconds</th>\n",
       "      <th>affected_roads</th>\n",
       "      <th>record_date</th>\n",
       "      <th>luminosity</th>\n",
       "      <th>avg_temperature</th>\n",
       "      <th>avg_atm_pressure</th>\n",
       "      <th>avg_humidity</th>\n",
       "      <th>avg_wind_speed</th>\n",
       "      <th>avg_precipitation</th>\n",
       "      <th>avg_rain</th>\n",
       "      <th>incidents</th>\n",
       "    </tr>\n",
       "  </thead>\n",
       "  <tbody>\n",
       "    <tr>\n",
       "      <th>0</th>\n",
       "      <td>Guimaraes</td>\n",
       "      <td>UNDEFINED</td>\n",
       "      <td>0</td>\n",
       "      <td>,</td>\n",
       "      <td>2021-03-15 23:00</td>\n",
       "      <td>0</td>\n",
       "      <td>12.0</td>\n",
       "      <td>1013.0</td>\n",
       "      <td>70.0</td>\n",
       "      <td>1.0</td>\n",
       "      <td>0.0</td>\n",
       "      <td>0</td>\n",
       "      <td>0</td>\n",
       "    </tr>\n",
       "    <tr>\n",
       "      <th>1</th>\n",
       "      <td>Guimaraes</td>\n",
       "      <td>UNDEFINED</td>\n",
       "      <td>385</td>\n",
       "      <td>N101,</td>\n",
       "      <td>2021-12-25 18:00</td>\n",
       "      <td>0</td>\n",
       "      <td>12.0</td>\n",
       "      <td>1007.0</td>\n",
       "      <td>91.0</td>\n",
       "      <td>1.0</td>\n",
       "      <td>0.0</td>\n",
       "      <td>0</td>\n",
       "      <td>0</td>\n",
       "    </tr>\n",
       "    <tr>\n",
       "      <th>2</th>\n",
       "      <td>Guimaraes</td>\n",
       "      <td>UNDEFINED</td>\n",
       "      <td>69</td>\n",
       "      <td>,</td>\n",
       "      <td>2021-03-12 15:00</td>\n",
       "      <td>2</td>\n",
       "      <td>14.0</td>\n",
       "      <td>1025.0</td>\n",
       "      <td>64.0</td>\n",
       "      <td>0.0</td>\n",
       "      <td>0.0</td>\n",
       "      <td>0</td>\n",
       "      <td>1</td>\n",
       "    </tr>\n",
       "    <tr>\n",
       "      <th>3</th>\n",
       "      <td>Guimaraes</td>\n",
       "      <td>MAJOR</td>\n",
       "      <td>2297</td>\n",
       "      <td>N101,R206,N105,N101,N101,N101,N101,N101,N101,N...</td>\n",
       "      <td>2021-09-29 09:00</td>\n",
       "      <td>2</td>\n",
       "      <td>15.0</td>\n",
       "      <td>1028.0</td>\n",
       "      <td>75.0</td>\n",
       "      <td>1.0</td>\n",
       "      <td>0.0</td>\n",
       "      <td>0</td>\n",
       "      <td>4</td>\n",
       "    </tr>\n",
       "    <tr>\n",
       "      <th>4</th>\n",
       "      <td>Guimaraes</td>\n",
       "      <td>UNDEFINED</td>\n",
       "      <td>0</td>\n",
       "      <td>N101,N101,N101,N101,N101,</td>\n",
       "      <td>2021-06-13 11:00</td>\n",
       "      <td>2</td>\n",
       "      <td>27.0</td>\n",
       "      <td>1020.0</td>\n",
       "      <td>52.0</td>\n",
       "      <td>1.0</td>\n",
       "      <td>0.0</td>\n",
       "      <td>0</td>\n",
       "      <td>3</td>\n",
       "    </tr>\n",
       "  </tbody>\n",
       "</table>\n",
       "</div>"
      ],
      "text/plain": [
       "   city_name magnitude_of_delay  delay_in_seconds  \\\n",
       "0  Guimaraes          UNDEFINED                 0   \n",
       "1  Guimaraes          UNDEFINED               385   \n",
       "2  Guimaraes          UNDEFINED                69   \n",
       "3  Guimaraes              MAJOR              2297   \n",
       "4  Guimaraes          UNDEFINED                 0   \n",
       "\n",
       "                                      affected_roads       record_date  \\\n",
       "0                                                  ,  2021-03-15 23:00   \n",
       "1                                              N101,  2021-12-25 18:00   \n",
       "2                                                  ,  2021-03-12 15:00   \n",
       "3  N101,R206,N105,N101,N101,N101,N101,N101,N101,N...  2021-09-29 09:00   \n",
       "4                          N101,N101,N101,N101,N101,  2021-06-13 11:00   \n",
       "\n",
       "   luminosity  avg_temperature  avg_atm_pressure  avg_humidity  \\\n",
       "0           0             12.0            1013.0          70.0   \n",
       "1           0             12.0            1007.0          91.0   \n",
       "2           2             14.0            1025.0          64.0   \n",
       "3           2             15.0            1028.0          75.0   \n",
       "4           2             27.0            1020.0          52.0   \n",
       "\n",
       "   avg_wind_speed  avg_precipitation  avg_rain  incidents  \n",
       "0             1.0                0.0         0          0  \n",
       "1             1.0                0.0         0          0  \n",
       "2             0.0                0.0         0          1  \n",
       "3             1.0                0.0         0          4  \n",
       "4             1.0                0.0         0          3  "
      ]
     },
     "execution_count": 196,
     "metadata": {},
     "output_type": "execute_result"
    }
   ],
   "source": [
    "# Atribute an order so its easier to understand\n",
    "replace_map1 = {'avg_rain':{'Sem Chuva':0, 'chuva fraca':1, 'chuva moderada':2,'chuva forte':3}}\n",
    "replace_map2 = {'luminosity': {'DARK':0,'LOW_LIGHT':1,'LIGHT':2,}}\n",
    "\n",
    "\n",
    "train.replace(replace_map1,inplace=True)\n",
    "test.replace(replace_map1,inplace=True)\n",
    "train.replace(replace_map2,inplace=True)\n",
    "test.replace(replace_map2,inplace=True)\n",
    "train.head()"
   ]
  },
  {
   "cell_type": "code",
   "execution_count": 197,
   "metadata": {},
   "outputs": [],
   "source": [
    "train['record_date'] = pd.to_datetime(train['record_date'],format='%Y-%m-%d %H:%M',errors='coerce')\n",
    "assert train['record_date'].isnull().sum()==0\n",
    "train['record_date_month'] = train['record_date'].dt.month\n",
    "train['record_date_day'] = train['record_date'].dt.day\n",
    "train['record_date_isWeekend'] = train['record_date'].dt.dayofweek\n",
    "train['record_date_hour'] = train['record_date'].dt.hour\n",
    "\n",
    "replace_map3 = {0:0,1:0,2:0,3:0,4:0,5:1,6:1}\n",
    "train['record_date_isWeekend'].replace(replace_map3,inplace=True)\n",
    "\n",
    "\n",
    "test['record_date'] = pd.to_datetime(test['record_date'],format='%Y-%m-%d %H:%M',errors='coerce')\n",
    "assert test['record_date'].isnull().sum()==0\n",
    "test['record_date_month'] = test['record_date'].dt.month\n",
    "test['record_date_day'] = test['record_date'].dt.day\n",
    "test['record_date_isWeekend'] = test['record_date'].dt.dayofweek\n",
    "test['record_date_hour'] = test['record_date'].dt.hour\n",
    "\n",
    "test['record_date_isWeekend'].replace(replace_map3,inplace=True)\n"
   ]
  },
  {
   "cell_type": "code",
   "execution_count": 198,
   "metadata": {},
   "outputs": [
    {
     "data": {
      "text/plain": [
       "N101,N101,N101,N101,N101                                                                                                    1514\n",
       "N101,N101,N101,N101,N101,                                                                                                   1078\n",
       ",                                                                                                                            709\n",
       "N101,N101                                                                                                                    149\n",
       "N101,N101,N101,N101,N101,N101                                                                                                114\n",
       "                                                                                                                            ... \n",
       "N101,N101,N105,N101,N101,N101,N101,N105,N101,N101,N101,N309,N101,N101,N101,N105                                                1\n",
       "N101,N101,N309,N309,N309,N309,N101,N101,N105,N101,N101,N309,N309,N309,N101,N101,N105,N105,N101,N101,N105,N101,N101,N101        1\n",
       "N101,R206,N206,N101,N101,N101,N101,N101,N101,N206,N101,N101,N105,EM579,N101,N101,N101,N101,N101,N101,N101,N105,N105,N105       1\n",
       "N101,N101,N101,N101,N101,N101,N105,N105,N101,N101,N101,N101,N101,N105,N105,N101,N206,N101,N101,N101                            1\n",
       "N101,N101,N101,N101,N101,N101,R206,N101,N101,N101,N105,N105,N101,N101,N101,N101                                                1\n",
       "Name: affected_roads, Length: 678, dtype: int64"
      ]
     },
     "execution_count": 198,
     "metadata": {},
     "output_type": "execute_result"
    }
   ],
   "source": [
    "train[\"affected_roads\"].value_counts()"
   ]
  },
  {
   "cell_type": "code",
   "execution_count": 199,
   "metadata": {},
   "outputs": [
    {
     "name": "stdout",
     "output_type": "stream",
     "text": [
      "<class 'pandas.core.frame.DataFrame'>\n",
      "RangeIndex: 5000 entries, 0 to 4999\n",
      "Data columns (total 17 columns):\n",
      " #   Column                 Non-Null Count  Dtype         \n",
      "---  ------                 --------------  -----         \n",
      " 0   city_name              5000 non-null   object        \n",
      " 1   magnitude_of_delay     5000 non-null   object        \n",
      " 2   delay_in_seconds       5000 non-null   int64         \n",
      " 3   affected_roads         4915 non-null   object        \n",
      " 4   record_date            5000 non-null   datetime64[ns]\n",
      " 5   luminosity             5000 non-null   int64         \n",
      " 6   avg_temperature        5000 non-null   float64       \n",
      " 7   avg_atm_pressure       5000 non-null   float64       \n",
      " 8   avg_humidity           5000 non-null   float64       \n",
      " 9   avg_wind_speed         5000 non-null   float64       \n",
      " 10  avg_precipitation      5000 non-null   float64       \n",
      " 11  avg_rain               5000 non-null   int64         \n",
      " 12  incidents              5000 non-null   int64         \n",
      " 13  record_date_month      5000 non-null   int64         \n",
      " 14  record_date_day        5000 non-null   int64         \n",
      " 15  record_date_isWeekend  5000 non-null   int64         \n",
      " 16  record_date_hour       5000 non-null   int64         \n",
      "dtypes: datetime64[ns](1), float64(5), int64(8), object(3)\n",
      "memory usage: 664.2+ KB\n"
     ]
    }
   ],
   "source": [
    "train.head()\n",
    "train.info()"
   ]
  },
  {
   "cell_type": "code",
   "execution_count": 200,
   "metadata": {},
   "outputs": [],
   "source": [
    "x = train[[\"delay_in_seconds\",\"avg_temperature\",\"avg_atm_pressure\",\"avg_humidity\",\"avg_wind_speed\",\"avg_rain\",\"record_date_month\",\"record_date_day\",\"record_date_isWeekend\",\"record_date_hour\"]]\n",
    "y = train[[\"incidents\"]]\n",
    "x_train, x_test,y_train, y_test = train_test_split(x,np.ravel(y),test_size=0.3,random_state=101023)\n"
   ]
  },
  {
   "cell_type": "code",
   "execution_count": 201,
   "metadata": {},
   "outputs": [
    {
     "name": "stdout",
     "output_type": "stream",
     "text": [
      "ACCURACY OF THE MODEL:  0.9186666666666666\n"
     ]
    }
   ],
   "source": [
    "# creating a RF classifier\n",
    "clf = RandomForestClassifier(n_estimators = 100,random_state=13122001) \n",
    " \n",
    "# Training the model on the training dataset\n",
    "# fit function is used to train the model using the training sets as parameters\n",
    "clf.fit(x_train, y_train)\n",
    " \n",
    "# performing predictions on the test dataset\n",
    "y_pred = clf.predict(x_test)\n",
    "\n",
    "print(\"ACCURACY OF THE MODEL: \", sk.metrics.accuracy_score(y_test, y_pred))"
   ]
  },
  {
   "cell_type": "markdown",
   "metadata": {},
   "source": [
    "## Submission Tests\n"
   ]
  },
  {
   "cell_type": "code",
   "execution_count": 202,
   "metadata": {},
   "outputs": [],
   "source": [
    "x_train = train[[\"delay_in_seconds\",\"avg_temperature\",\"avg_atm_pressure\",\"avg_humidity\",\"avg_wind_speed\",\"avg_rain\",\"record_date_month\",\"record_date_day\",\"record_date_isWeekend\",\"record_date_hour\"]]\n",
    "y_train = train[[\"incidents\"]]\n",
    "\n",
    "x_test = test[[\"delay_in_seconds\",\"avg_temperature\",\"avg_atm_pressure\",\"avg_humidity\",\"avg_wind_speed\",\"avg_rain\",\"record_date_month\",\"record_date_day\",\"record_date_isWeekend\",\"record_date_hour\"]]\n",
    "\n",
    "\n",
    "\n"
   ]
  },
  {
   "cell_type": "code",
   "execution_count": 203,
   "metadata": {},
   "outputs": [
    {
     "name": "stderr",
     "output_type": "stream",
     "text": [
      "/home/ganso133/anaconda3/envs/env/lib/python3.6/site-packages/ipykernel_launcher.py:6: DataConversionWarning: A column-vector y was passed when a 1d array was expected. Please change the shape of y to (n_samples,), for example using ravel().\n",
      "  \n"
     ]
    }
   ],
   "source": [
    "# creating a RF classifier\n",
    "clf = RandomForestClassifier(n_estimators = 100,random_state=13122001) \n",
    " \n",
    "# Training the model on the training dataset\n",
    "# fit function is used to train the model using the training sets as parameters\n",
    "clf.fit(x_train,y_train)\n",
    " \n",
    "# performing predictions on the test dataset\n",
    "y_pred = clf.predict(x_test)\n",
    "\n",
    "#print(\"ACCURACY OF THE MODEL: \", sk.metrics.accuracy_score(y_test, y_pred))"
   ]
  },
  {
   "cell_type": "code",
   "execution_count": 204,
   "metadata": {},
   "outputs": [],
   "source": [
    "f = open(\"myfile.csv\", \"w\")\n",
    "\n",
    "replace_map = {0:'None', 1:'Low', 2:'Medium',3:'High',4:'Very_High'}\n",
    "\n",
    "\n",
    "\n",
    "f.write(\"RowId,Incidents\\n\")\n",
    "\n",
    "for i in range(y_pred.size):\n",
    "    f.write(str(i+1))\n",
    "    f.write(\",\")\n",
    "    f.write(replace_map[y_pred[i]])\n",
    "    f.write(\"\\n\")"
   ]
  }
 ],
 "metadata": {
  "interpreter": {
   "hash": "bb50656a97d90f3364306f1185a9a91686dc76292645ad8896f0c9fab5293942"
  },
  "kernelspec": {
   "display_name": "Python 3.6.13 ('env')",
   "language": "python",
   "name": "python3"
  },
  "language_info": {
   "codemirror_mode": {
    "name": "ipython",
    "version": 3
   },
   "file_extension": ".py",
   "mimetype": "text/x-python",
   "name": "python",
   "nbconvert_exporter": "python",
   "pygments_lexer": "ipython3",
   "version": "3.6.13"
  },
  "orig_nbformat": 4
 },
 "nbformat": 4,
 "nbformat_minor": 2
}
