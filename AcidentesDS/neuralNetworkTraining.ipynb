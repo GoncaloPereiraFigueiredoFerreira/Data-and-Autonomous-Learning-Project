{
 "cells": [
  {
   "cell_type": "markdown",
   "metadata": {},
   "source": [
    "# Neural Network Training"
   ]
  },
  {
   "cell_type": "markdown",
   "metadata": {},
   "source": [
    "Imports:"
   ]
  },
  {
   "cell_type": "code",
   "execution_count": 3,
   "metadata": {},
   "outputs": [],
   "source": [
    "import pandas as pd\n",
    "import tensorflow as tf\n",
    "from tensorflow.keras.models import Sequential\n",
    "from tensorflow.keras.layers import Dense, Dropout, BatchNormalization\n",
    "from tensorflow.keras.wrappers.scikit_learn import KerasRegressor, KerasClassifier\n",
    "from sklearn.model_selection import  GridSearchCV, KFold, train_test_split\n",
    "from sklearn.preprocessing import MinMaxScaler\n",
    "import numpy as np"
   ]
  },
  {
   "cell_type": "markdown",
   "metadata": {},
   "source": [
    "Load datasets"
   ]
  },
  {
   "cell_type": "code",
   "execution_count": 4,
   "metadata": {},
   "outputs": [],
   "source": [
    "trainDf = pd.read_csv(\"training_data_treated.csv\")\n",
    "testDf = pd.read_csv(\"test_data_treated.csv\")"
   ]
  },
  {
   "cell_type": "markdown",
   "metadata": {},
   "source": [
    "Scalling features"
   ]
  },
  {
   "cell_type": "code",
   "execution_count": 5,
   "metadata": {},
   "outputs": [],
   "source": [
    "x_normal = trainDf[[\"delay_in_seconds\",\"avg_temperature\",\"avg_atm_pressure\",\"avg_humidity\",\"record_date_month\",\"record_date_day\",\"record_date_isWeekend\",\"record_date_hour\",\"N101\",\"R206\",\"N105\",\"N206\",\"N309\",\"IC5\",\"N310\",\"EM579\",\"N207-4\"]]\n",
    "y_normal = trainDf[[\"incidents\"]]\n",
    "\n",
    "scaler_x = MinMaxScaler(feature_range=(0,1)).fit(x_normal)\n",
    "scaler_y = MinMaxScaler(feature_range=(0,1)).fit(y_normal)\n",
    "x = pd.DataFrame(scaler_x.transform(x_normal[x_normal.columns]),columns=x_normal.columns)\n",
    "y = y_normal"
   ]
  },
  {
   "cell_type": "markdown",
   "metadata": {},
   "source": [
    "Building the model"
   ]
  },
  {
   "cell_type": "code",
   "execution_count": null,
   "metadata": {},
   "outputs": [],
   "source": [
    "def buildModel(activation1='sigmoid',activation2='sigmoid',activation3='sigmoid',learning_rate=0.01, neurons = 32):\n",
    "    model = Sequential()\n",
    "    model.add(Dense(neurons,input_dim=16, activation=activation1))\n",
    "    model.add(Dense(neurons*2, activation=activation2))\n",
    "    model.add(Dense(neurons, activation=activation2))\n",
    "    model.add(Dense(neurons/2, activation=activation3))\n",
    "    model.add(Dense(5, activation='softmax'))\n",
    "\n",
    "    model.compile(\n",
    "        loss= tf.keras.losses.SparseCategoricalCrossentropy(from_logits=True),\n",
    "        optimizer= tf.keras.optimizers.Adam(learning_rate),\n",
    "        metrics= ['accuracy']\n",
    "    )\n",
    "    return model"
   ]
  },
  {
   "cell_type": "markdown",
   "metadata": {},
   "source": [
    "Tuning the model"
   ]
  },
  {
   "cell_type": "code",
   "execution_count": null,
   "metadata": {},
   "outputs": [],
   "source": [
    "model = buildModel()\n",
    "TUNING = {\n",
    "    'activation1': ['relu','sigmoid','tanh','softmax'],\n",
    "    'activation2': ['relu','sigmoid','tanh','softmax'],\n",
    "    'activation3': ['relu','sigmoid','tanh','softmax'],\n",
    "    'learning_rate': [0.01,0.005,0.001],\n",
    "    'neurons':[int(x) for x in np.linspace(start = 10, stop = 30, num = 10)]\n",
    "}\n",
    "\n",
    "kf = KFold(n_splits=5,shuffle=True,random_state=13122001)\n",
    "model = KerasClassifier(build_fn=buildModel,epochs=20,batch_size=8)\n",
    "\n",
    "grid_search = GridSearchCV(estimator=model, \n",
    "                           param_grid=TUNING,\n",
    "                           cv=kf,\n",
    "                           scoring = 'accuracy',\n",
    "                           refit='True',\n",
    "                           verbose=1)\n",
    "\n",
    "\n",
    "#grid_search.fit(x,y,validation_split=0.2)\n"
   ]
  },
  {
   "cell_type": "code",
   "execution_count": null,
   "metadata": {},
   "outputs": [],
   "source": [
    "from livelossplot import PlotLossesKerasTF\n",
    "\n",
    "grid_search.best_estimator_.fit(x,y,epochs=120,validation_split=0.3,callbacks=[PlotLossesKerasTF()],verbose=1)"
   ]
  },
  {
   "cell_type": "markdown",
   "metadata": {},
   "source": [
    "### Create a submission"
   ]
  },
  {
   "cell_type": "code",
   "execution_count": null,
   "metadata": {},
   "outputs": [],
   "source": [
    "x_train = trainDf[[\"delay_in_seconds\",\"avg_temperature\",\"avg_atm_pressure\",\"avg_humidity\",\"record_date_month\",\"record_date_day\",\"record_date_isWeekend\",\"record_date_hour\",\"N101\",\"R206\",\"N105\",\"N206\",\"N309\",\"IC5\",\"N310\",\"EM579\",\"N207-4\"]]\n",
    "x_test = trainDf[[\"incidents\"]]\n",
    "y_test = testDf[[\"delay_in_seconds\",\"avg_temperature\",\"avg_atm_pressure\",\"avg_humidity\",\"record_date_month\",\"record_date_day\",\"record_date_isWeekend\",\"record_date_hour\",\"N101\",\"R206\",\"N105\",\"N206\",\"N309\",\"IC5\",\"N310\",\"EM579\",\"N207-4\"]]\n",
    "scaler_train = MinMaxScaler(feature_range=(0,17)).fit(x_train)\n",
    "scaler_test=MinMaxScaler(feature_range=(0,17)).fit(y_test)\n",
    "\n"
   ]
  },
  {
   "cell_type": "code",
   "execution_count": null,
   "metadata": {},
   "outputs": [],
   "source": [
    "grid_search.best_estimator_.fit(x_train,x_test,epochs=120,validation_split=0.3,callbacks=[PlotLossesKerasTF()],verbose=1)\n",
    "y_pred = grid_search.best_estimator_.predict(y_test,batch_size=8)"
   ]
  },
  {
   "cell_type": "code",
   "execution_count": null,
   "metadata": {},
   "outputs": [],
   "source": [
    "f = open(\"Submissions/ANNSub.csv\", \"w\")\n",
    "\n",
    "replace_map = {0:'None', 1:'Low', 2:'Medium',3:'High',4:'Very_High'}\n",
    "\n",
    "print(y_pred.size)\n",
    "\n",
    "\n",
    "f.write(\"RowId,Incidents\\n\")\n",
    "\n",
    "for i in range(y_pred.size):\n",
    "    f.write(str(i+1))\n",
    "    f.write(\",\")\n",
    "    f.write(replace_map[y_pred[i]])\n",
    "    f.write(\"\\n\")"
   ]
  }
 ],
 "metadata": {
  "interpreter": {
   "hash": "bb50656a97d90f3364306f1185a9a91686dc76292645ad8896f0c9fab5293942"
  },
  "kernelspec": {
   "display_name": "Python 3.6.13 ('env')",
   "language": "python",
   "name": "python3"
  },
  "language_info": {
   "codemirror_mode": {
    "name": "ipython",
    "version": 3
   },
   "file_extension": ".py",
   "mimetype": "text/x-python",
   "name": "python",
   "nbconvert_exporter": "python",
   "pygments_lexer": "ipython3",
   "version": "3.6.13"
  },
  "orig_nbformat": 4
 },
 "nbformat": 4,
 "nbformat_minor": 2
}
